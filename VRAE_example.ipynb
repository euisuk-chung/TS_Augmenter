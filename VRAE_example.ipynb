{
 "cells": [
  {
   "cell_type": "markdown",
   "metadata": {},
   "source": [
    "#### Contents\n",
    "\n",
    "0. [Load data and preprocess](#Load-data-and-preprocess)\n",
    "1. [Initialize VRAE object](#Initialize-VRAE-object)\n",
    "2. [Fit the model onto dataset](#Fit-the-model-onto-dataset)\n",
    "3. [Transform the input timeseries to encoded latent vectors](#Transform-the-input-timeseries-to-encoded-latent-vectors)\n",
    "4. [Save the model to be fetched later](#Save-the-model-to-be-fetched-later)"
   ]
  },
  {
   "cell_type": "markdown",
   "metadata": {},
   "source": [
    "### Import required modules"
   ]
  },
  {
   "cell_type": "code",
   "execution_count": 1,
   "metadata": {},
   "outputs": [],
   "source": [
    "from model.vrae import VRAE\n",
    "\n",
    "from model.utils import *\n",
    "import numpy as np\n",
    "import torch\n",
    "from torch.utils.data import DataLoader, Dataset\n",
    "from tqdm.notebook import trange\n",
    "import tqdm\n",
    "\n",
    "import pickle\n",
    "\n",
    "from sklearn.preprocessing import MinMaxScaler\n"
   ]
  },
  {
   "cell_type": "markdown",
   "metadata": {},
   "source": [
    "### Input parameters"
   ]
  },
  {
   "cell_type": "code",
   "execution_count": 2,
   "metadata": {},
   "outputs": [],
   "source": [
    "dload = './saved_model' #download directory"
   ]
  },
  {
   "cell_type": "markdown",
   "metadata": {},
   "source": [
    "### utils.load_data"
   ]
  },
  {
   "cell_type": "code",
   "execution_count": 3,
   "metadata": {},
   "outputs": [],
   "source": [
    "def load_gen_data(file_name, cols_to_remove = None):\n",
    "    \"\"\"\n",
    "    folder: folder where data is located\n",
    "    \"\"\"\n",
    "    \n",
    "    # define path(must be in pkl file)\n",
    "    data_loc = f'./data/netis/{file_name}.pkl'    \n",
    "    \n",
    "    # get data\n",
    "    with open(data_loc, 'rb') as f:\n",
    "        df = pickle.load(f)\n",
    "    \n",
    "    # if needed remove columns that is not necessary\n",
    "    if cols_to_remove != None:\n",
    "        df = df_total.drop(cols_to_remove, axis=1)\n",
    "    \n",
    "    df = df.dropna()\n",
    "    \n",
    "    # TRAIN TEST SPLIT\n",
    "    # TRAIN\n",
    "    TRAIN_DF = df.query('Time < 20211103184400 or Time > 20211106084400 and label==0')\n",
    "    \n",
    "    # TEST(GET ONLY 정상)\n",
    "    TEST_DF = df.query('Time >= 20211103184400 and Time <= 20211106084400 and label==0')\n",
    "\n",
    "    TOTAL_DF = df.to_numpy()\n",
    "    \n",
    "    # REMOVE TIME & LABEL\n",
    "    TRAIN_DF = TRAIN_DF.iloc[:,1:-1].to_numpy()\n",
    "    TEST_DF = TEST_DF.iloc[:,1:-1].to_numpy()\n",
    "    \n",
    "    MM_scaler = MinMaxScaler()\n",
    "    \n",
    "    TRAIN_SCALED = MM_scaler.fit(TRAIN_DF).transform(TRAIN_DF)\n",
    "    TEST_SCALED = MM_scaler.transform(TEST_DF)\n",
    "    \n",
    "    return TOTAL_DF, TRAIN_DF, TEST_DF, TRAIN_SCALED, TEST_SCALED, MM_scaler"
   ]
  },
  {
   "cell_type": "markdown",
   "metadata": {},
   "source": [
    "### Hyper parameters"
   ]
  },
  {
   "cell_type": "markdown",
   "metadata": {},
   "source": [
    "### Load data and preprocess\n",
    "- `file_name` : pkl file_name\n",
    "- `cols_to_remove` : generation 수행하지 않을 column 제거"
   ]
  },
  {
   "cell_type": "code",
   "execution_count": 4,
   "metadata": {},
   "outputs": [
    {
     "name": "stdout",
     "output_type": "stream",
     "text": [
      "(26002, 94)\n",
      "(22363, 92)\n",
      "(3627, 92)\n"
     ]
    }
   ],
   "source": [
    "# params\n",
    "file_name = 'netis'\n",
    "\n",
    "# load data\n",
    "TOTAL_DF, TRAIN_DF, TEST_DF, TRAIN_SCALED, TEST_SCALED, MM_scaler = load_gen_data(file_name)\n",
    "\n",
    "# shape\n",
    "print(TOTAL_DF.shape)\n",
    "print(TRAIN_SCALED.shape)\n",
    "print(TEST_SCALED.shape)"
   ]
  },
  {
   "cell_type": "code",
   "execution_count": 5,
   "metadata": {
    "scrolled": true
   },
   "outputs": [
    {
     "data": {
      "text/plain": [
       "array([[3.66328864e-04, 2.52639355e-05, 2.90615333e-05, ...,\n",
       "        3.42446043e-01, 4.98597475e-01, 1.65289256e-01],\n",
       "       [2.66795942e-04, 3.25753827e-05, 3.13032504e-05, ...,\n",
       "        3.51079137e-01, 4.97896213e-01, 1.65289256e-01],\n",
       "       [2.01613776e-04, 1.37864421e-05, 3.04728091e-05, ...,\n",
       "        3.51079137e-01, 4.97896213e-01, 1.23966942e-01],\n",
       "       ...,\n",
       "       [2.66813941e-03, 9.48559406e-04, 3.24553957e-06, ...,\n",
       "        6.04316547e-01, 9.89481066e-01, 2.89256198e-01],\n",
       "       [1.45200665e-03, 2.26151271e-03, 3.08280452e-06, ...,\n",
       "        6.04316547e-01, 9.88779804e-01, 3.05785124e-01],\n",
       "       [8.30917887e-03, 8.96945321e-04, 7.79900694e-06, ...,\n",
       "        6.04316547e-01, 9.88779804e-01, 2.97520661e-01]])"
      ]
     },
     "execution_count": 5,
     "metadata": {},
     "output_type": "execute_result"
    }
   ],
   "source": [
    "TRAIN_SCALED"
   ]
  },
  {
   "cell_type": "code",
   "execution_count": 6,
   "metadata": {
    "scrolled": true
   },
   "outputs": [
    {
     "data": {
      "text/plain": [
       "array([[4.02355635e-03, 6.62881732e-05, 1.69243372e-05, ...,\n",
       "        6.79136691e-01, 3.52033661e-01, 2.14876033e-01],\n",
       "       [4.07135202e-03, 1.18662977e-04, 6.92800865e-06, ...,\n",
       "        6.79136691e-01, 3.52734923e-01, 2.14876033e-01],\n",
       "       [4.02378633e-03, 2.82489361e-04, 2.07942738e-05, ...,\n",
       "        6.79136691e-01, 3.52734923e-01, 2.14876033e-01],\n",
       "       ...,\n",
       "       [3.98419630e-03, 7.85747554e-05, 1.75819403e-05, ...,\n",
       "        5.98561151e-01, 4.25666199e-01, 2.56198347e-01],\n",
       "       [3.98799304e-03, 4.90275879e-05, 3.81572787e-06, ...,\n",
       "        6.00000000e-01, 4.24964937e-01, 2.56198347e-01],\n",
       "       [3.93781591e-03, 3.97621553e-05, 8.13602856e-06, ...,\n",
       "        6.04316547e-01, 4.24964937e-01, 2.47933884e-01]])"
      ]
     },
     "execution_count": 6,
     "metadata": {},
     "output_type": "execute_result"
    }
   ],
   "source": [
    "TEST_SCALED"
   ]
  },
  {
   "cell_type": "code",
   "execution_count": 7,
   "metadata": {},
   "outputs": [],
   "source": [
    "class GenerationDataset(Dataset):\n",
    "    def __init__(self, data, window):\n",
    "        self.data = torch.Tensor(data)\n",
    "        self.window = window\n",
    " \n",
    "    def __len__(self):\n",
    "        return len(self.data) // self.window # -1\n",
    "    \n",
    "    def __getitem__(self, index):\n",
    "#         x = self.data[index*self.window:index*(self.window+1)]\n",
    "        x = self.data[index*self.window:(index+1)*(self.window)]\n",
    "        return x"
   ]
  },
  {
   "cell_type": "code",
   "execution_count": 8,
   "metadata": {},
   "outputs": [],
   "source": [
    "window = 100"
   ]
  },
  {
   "cell_type": "code",
   "execution_count": 9,
   "metadata": {},
   "outputs": [
    {
     "data": {
      "text/plain": [
       "<__main__.GenerationDataset at 0x7f2a24198630>"
      ]
     },
     "execution_count": 9,
     "metadata": {},
     "output_type": "execute_result"
    }
   ],
   "source": [
    "train_dataset = GenerationDataset(TRAIN_SCALED, window)\n",
    "train_dataset"
   ]
  },
  {
   "cell_type": "code",
   "execution_count": 10,
   "metadata": {},
   "outputs": [
    {
     "data": {
      "text/plain": [
       "<__main__.GenerationDataset at 0x7f2a24205da0>"
      ]
     },
     "execution_count": 10,
     "metadata": {},
     "output_type": "execute_result"
    }
   ],
   "source": [
    "test_dataset = GenerationDataset(TEST_SCALED, window)\n",
    "test_dataset"
   ]
  },
  {
   "cell_type": "code",
   "execution_count": 11,
   "metadata": {},
   "outputs": [
    {
     "data": {
      "text/plain": [
       "torch.Size([100, 92])"
      ]
     },
     "execution_count": 11,
     "metadata": {},
     "output_type": "execute_result"
    }
   ],
   "source": [
    "train_dataset[0].shape"
   ]
  },
  {
   "cell_type": "markdown",
   "metadata": {},
   "source": [
    "**Fetch `sequence_length` from dataset**"
   ]
  },
  {
   "cell_type": "code",
   "execution_count": 12,
   "metadata": {},
   "outputs": [
    {
     "data": {
      "text/plain": [
       "100"
      ]
     },
     "execution_count": 12,
     "metadata": {},
     "output_type": "execute_result"
    }
   ],
   "source": [
    "sequence_length = train_dataset[0].shape[0]\n",
    "sequence_length"
   ]
  },
  {
   "cell_type": "markdown",
   "metadata": {},
   "source": [
    "**Fetch `number_of_features` from dataset**\n",
    "\n",
    "This config corresponds to number of input features"
   ]
  },
  {
   "cell_type": "code",
   "execution_count": 13,
   "metadata": {},
   "outputs": [
    {
     "data": {
      "text/plain": [
       "92"
      ]
     },
     "execution_count": 13,
     "metadata": {},
     "output_type": "execute_result"
    }
   ],
   "source": [
    "number_of_features = train_dataset[0].shape[1]\n",
    "number_of_features"
   ]
  },
  {
   "cell_type": "markdown",
   "metadata": {},
   "source": [
    "### Parameters"
   ]
  },
  {
   "cell_type": "code",
   "execution_count": 14,
   "metadata": {},
   "outputs": [],
   "source": [
    "n_epochs = 1000\n",
    "hidden_size = 90\n",
    "hidden_layer_depth = 1\n",
    "latent_length = 20\n",
    "batch_size = 1\n",
    "learning_rate = 0.0005\n",
    "dropout_rate = 0.2\n",
    "optimizer = 'Adam' # options: ADAM, SGD\n",
    "cuda = True # options: True, False\n",
    "print_every=30\n",
    "clip = True # options: True, False\n",
    "max_grad_norm=5\n",
    "loss = 'MSELoss' # options: SmoothL1Loss, MSELoss\n",
    "block = 'LSTM' # options: LSTM, GRU"
   ]
  },
  {
   "cell_type": "markdown",
   "metadata": {},
   "source": [
    "### Initialize VRAE object\n",
    "\n",
    "VRAE inherits from `sklearn.base.BaseEstimator` and overrides `fit`, `transform` and `fit_transform` functions, similar to sklearn modules"
   ]
  },
  {
   "cell_type": "code",
   "execution_count": 15,
   "metadata": {},
   "outputs": [
    {
     "name": "stderr",
     "output_type": "stream",
     "text": [
      "/usr/local/lib/python3.6/dist-packages/torch/nn/modules/rnn.py:65: UserWarning: dropout option adds dropout after all but last recurrent layer, so non-zero dropout expects num_layers greater than 1, but got dropout=0.2 and num_layers=1\n",
      "  \"num_layers={}\".format(dropout, num_layers))\n",
      "/usr/local/lib/python3.6/dist-packages/torch/nn/_reduction.py:42: UserWarning: size_average and reduce args will be deprecated, please use reduction='sum' instead.\n",
      "  warnings.warn(warning.format(ret))\n"
     ]
    }
   ],
   "source": [
    "vrae = VRAE(sequence_length=sequence_length,\n",
    "            number_of_features = number_of_features,\n",
    "            hidden_size = hidden_size, \n",
    "            hidden_layer_depth = hidden_layer_depth,\n",
    "            latent_length = latent_length,\n",
    "            batch_size = batch_size,\n",
    "            learning_rate = learning_rate,\n",
    "            n_epochs = n_epochs,\n",
    "            dropout_rate = dropout_rate,\n",
    "            optimizer = optimizer, \n",
    "            cuda = cuda,\n",
    "            print_every=print_every, \n",
    "            clip=clip, \n",
    "            max_grad_norm=max_grad_norm,\n",
    "            loss = loss,\n",
    "            block = block,\n",
    "            dload = dload)"
   ]
  },
  {
   "cell_type": "markdown",
   "metadata": {},
   "source": [
    "### Fit the model onto dataset"
   ]
  },
  {
   "cell_type": "code",
   "execution_count": 16,
   "metadata": {
    "scrolled": true
   },
   "outputs": [
    {
     "data": {
      "application/vnd.jupyter.widget-view+json": {
       "model_id": "7e40acd4accc4521b8c73d0cece1a67b",
       "version_major": 2,
       "version_minor": 0
      },
      "text/plain": [
       "HBox(children=(FloatProgress(value=0.0, max=5.0), HTML(value='')))"
      ]
     },
     "metadata": {},
     "output_type": "display_data"
    },
    {
     "name": "stdout",
     "output_type": "stream",
     "text": [
      "Epoch: 0\n",
      "Batch 30, loss = 20.1691, recon_loss = 20.1585, kl_loss = 0.0105\n",
      "Batch 60, loss = 1.1308, recon_loss = 0.9764, kl_loss = 0.1543\n",
      "Batch 90, loss = 1.4159, recon_loss = 1.1985, kl_loss = 0.2174\n",
      "Batch 120, loss = 0.9853, recon_loss = 0.8492, kl_loss = 0.1361\n",
      "Batch 150, loss = 104.0810, recon_loss = 103.7934, kl_loss = 0.2875\n",
      "Batch 180, loss = 34.8238, recon_loss = 34.5251, kl_loss = 0.2987\n",
      "Batch 210, loss = 145.7853, recon_loss = 145.6248, kl_loss = 0.1605\n",
      "Average loss: 40.0274\n",
      "Epoch: 1\n",
      "Batch 30, loss = 18.4178, recon_loss = 18.3372, kl_loss = 0.0806\n",
      "Batch 60, loss = 0.9833, recon_loss = 0.8878, kl_loss = 0.0955\n",
      "Batch 90, loss = 1.1759, recon_loss = 1.0854, kl_loss = 0.0906\n",
      "Batch 120, loss = 0.6553, recon_loss = 0.5694, kl_loss = 0.0859\n",
      "Batch 150, loss = 121.4154, recon_loss = 121.1637, kl_loss = 0.2518\n",
      "Batch 180, loss = 44.9991, recon_loss = 44.7725, kl_loss = 0.2266\n",
      "Batch 210, loss = 102.8021, recon_loss = 102.7156, kl_loss = 0.0866\n",
      "Average loss: 43.0925\n",
      "Epoch: 2\n",
      "Batch 30, loss = 21.8059, recon_loss = 21.7482, kl_loss = 0.0577\n",
      "Batch 60, loss = 0.8276, recon_loss = 0.7704, kl_loss = 0.0571\n",
      "Batch 90, loss = 1.0877, recon_loss = 1.0350, kl_loss = 0.0527\n",
      "Batch 120, loss = 0.6098, recon_loss = 0.5725, kl_loss = 0.0374\n",
      "Batch 150, loss = 130.8344, recon_loss = 130.6334, kl_loss = 0.2010\n",
      "Batch 180, loss = 67.7372, recon_loss = 67.5718, kl_loss = 0.1654\n",
      "Batch 210, loss = 75.4796, recon_loss = 75.4251, kl_loss = 0.0545\n",
      "Average loss: 44.5279\n",
      "Epoch: 3\n",
      "Batch 30, loss = 19.6618, recon_loss = 19.6209, kl_loss = 0.0409\n",
      "Batch 60, loss = 1.3226, recon_loss = 1.2835, kl_loss = 0.0391\n",
      "Batch 90, loss = 1.0322, recon_loss = 0.9974, kl_loss = 0.0348\n",
      "Batch 120, loss = 0.5953, recon_loss = 0.5651, kl_loss = 0.0302\n",
      "Batch 150, loss = 136.5075, recon_loss = 136.4033, kl_loss = 0.1042\n",
      "Batch 180, loss = 82.2406, recon_loss = 82.1380, kl_loss = 0.1026\n",
      "Batch 210, loss = 60.5150, recon_loss = 60.4908, kl_loss = 0.0242\n",
      "Average loss: 44.2503\n",
      "Epoch: 4\n",
      "Batch 30, loss = 17.0394, recon_loss = 17.0184, kl_loss = 0.0210\n",
      "Batch 60, loss = 1.5834, recon_loss = 1.5620, kl_loss = 0.0214\n",
      "Batch 90, loss = 1.0731, recon_loss = 1.0544, kl_loss = 0.0187\n",
      "Batch 120, loss = 0.5932, recon_loss = 0.5795, kl_loss = 0.0138\n",
      "Batch 150, loss = 139.0491, recon_loss = 138.9712, kl_loss = 0.0779\n",
      "Batch 180, loss = 90.6864, recon_loss = 90.5818, kl_loss = 0.1046\n",
      "Batch 210, loss = 52.9644, recon_loss = 52.9485, kl_loss = 0.0159\n",
      "Average loss: 43.8283\n",
      "\n"
     ]
    }
   ],
   "source": [
    "loss_arr = vrae.fit(train_dataset)\n",
    "\n",
    "#If the model has to be saved, with the learnt parameters use:\n",
    "# vrae.fit(dataset, save = True)"
   ]
  },
  {
   "cell_type": "code",
   "execution_count": 17,
   "metadata": {},
   "outputs": [
    {
     "data": {
      "text/plain": [
       "[<matplotlib.lines.Line2D at 0x7f2a10294748>]"
      ]
     },
     "execution_count": 17,
     "metadata": {},
     "output_type": "execute_result"
    },
    {
     "data": {
      "image/png": "[encoded data removed]",
      "text/plain": [
       "<Figure size 432x288 with 1 Axes>"
      ]
     },
     "metadata": {
      "needs_background": "light"
     },
     "output_type": "display_data"
    }
   ],
   "source": [
    "import matplotlib.pyplot as plt\n",
    "\n",
    "plt.plot(loss_arr)"
   ]
  },
  {
   "cell_type": "markdown",
   "metadata": {},
   "source": [
    "### Save the model to be fetched later"
   ]
  },
  {
   "cell_type": "code",
   "execution_count": 18,
   "metadata": {},
   "outputs": [],
   "source": [
    "vrae.save('vrae.pth')\n",
    "\n",
    "# To load a presaved model, execute:\n",
    "# vrae.load('vrae.pth')"
   ]
  },
  {
   "cell_type": "code",
   "execution_count": 19,
   "metadata": {},
   "outputs": [
    {
     "data": {
      "text/plain": [
       "True"
      ]
     },
     "execution_count": 19,
     "metadata": {},
     "output_type": "execute_result"
    }
   ],
   "source": [
    "vrae.is_fitted"
   ]
  },
  {
   "cell_type": "markdown",
   "metadata": {},
   "source": [
    "### Transform the input timeseries to encoded latent vectors"
   ]
  },
  {
   "cell_type": "code",
   "execution_count": 20,
   "metadata": {
    "scrolled": true
   },
   "outputs": [
    {
     "data": {
      "text/plain": [
       "array([[-0.3283009 , -0.07758239, -0.39262283,  0.6337836 , -0.14250779,\n",
       "        -0.42093807,  1.4153192 ,  0.27768546, -0.1267438 , -0.9205529 ,\n",
       "        -0.15797167, -0.41524243, -0.03784581, -0.25592178,  0.83391577,\n",
       "         0.04710793, -0.31536686,  0.5249646 ,  0.21208462,  0.2258121 ],\n",
       "       [-0.32932857, -0.07571401, -0.38458776,  0.6371127 , -0.14501224,\n",
       "        -0.42259476,  1.4171376 ,  0.27288717, -0.12295309, -0.922328  ,\n",
       "        -0.16112496, -0.41532454, -0.03310846, -0.2561079 ,  0.83122796,\n",
       "         0.05048269, -0.31407908,  0.52527285,  0.20657781,  0.22409223],\n",
       "       [-0.3293326 , -0.07919408, -0.39396378,  0.63517714, -0.14457206,\n",
       "        -0.42058274,  1.4203824 ,  0.27850318, -0.1282128 , -0.9255527 ,\n",
       "        -0.16013956, -0.4163918 , -0.0392042 , -0.25665912,  0.83366126,\n",
       "         0.04842175, -0.31540272,  0.5269687 ,  0.21376064,  0.22812812],\n",
       "       [-0.32741308, -0.07652487, -0.39832154,  0.6342776 , -0.1428913 ,\n",
       "        -0.42046955,  1.4156059 ,  0.27616864, -0.13122118, -0.9219297 ,\n",
       "        -0.15875386, -0.41560647, -0.04055884, -0.25525314,  0.8358537 ,\n",
       "         0.0478956 , -0.31631434,  0.5271232 ,  0.20966777,  0.22467063],\n",
       "       [-0.3292405 , -0.07863726, -0.39405936,  0.6371766 , -0.14335887,\n",
       "        -0.42235693,  1.4226006 ,  0.27696246, -0.12930627, -0.9270323 ,\n",
       "        -0.15845291, -0.41838002, -0.03942131, -0.2575784 ,  0.8359947 ,\n",
       "         0.04623973, -0.31703913,  0.52903813,  0.21518803,  0.22503881],\n",
       "       [-0.33129925, -0.07120958, -0.380401  ,  0.64084834, -0.14874534,\n",
       "        -0.42556962,  1.4249239 ,  0.26898527, -0.12500457, -0.9271796 ,\n",
       "        -0.16200136, -0.4177506 , -0.03111367, -0.25919113,  0.8368983 ,\n",
       "         0.04957448, -0.3157034 ,  0.5285448 ,  0.20730302,  0.22224468],\n",
       "       [-0.33111432, -0.07312264, -0.38593936,  0.6391986 , -0.14716606,\n",
       "        -0.42363217,  1.4254917 ,  0.27526245, -0.13180082, -0.93063116,\n",
       "        -0.16065197, -0.42175516, -0.03611799, -0.2562801 ,  0.8392857 ,\n",
       "         0.04370103, -0.31758675,  0.5277793 ,  0.20969585,  0.22471124],\n",
       "       [-0.32992506, -0.07976753, -0.39343905,  0.63592124, -0.14588429,\n",
       "        -0.42062128,  1.424746  ,  0.2793768 , -0.13122864, -0.92999744,\n",
       "        -0.16062808, -0.41875702, -0.04103384, -0.25693467,  0.8353546 ,\n",
       "         0.04635122, -0.31747693,  0.5279115 ,  0.2137551 ,  0.22836417],\n",
       "       [-0.0355406 , -0.12989901, -0.21252218,  0.0269184 ,  0.04518449,\n",
       "        -0.07132809,  0.29370612,  0.41765305, -0.06184113, -0.0648983 ,\n",
       "         0.02480157, -0.11414978, -0.04234714,  0.04693816,  0.06205006,\n",
       "         0.06624863, -0.08442937,  0.01413678, -0.13692006,  0.21995777],\n",
       "       [-0.0331734 , -0.12998252, -0.23741543,  0.02517561,  0.05016888,\n",
       "        -0.07197606,  0.28524172,  0.41624334, -0.07252134, -0.0586862 ,\n",
       "         0.02960722, -0.11048569, -0.04768559,  0.04802582,  0.06882951,\n",
       "         0.06334606, -0.0795293 ,  0.0176138 , -0.12940902,  0.21304418],\n",
       "       [-0.02554176, -0.12704565, -0.2152684 ,  0.024083  ,  0.0426791 ,\n",
       "        -0.06953277,  0.28747618,  0.40432993, -0.06095666, -0.05677639,\n",
       "         0.02759513, -0.10688618, -0.03439641,  0.04093883,  0.0666874 ,\n",
       "         0.06045915, -0.07614389,  0.02046383, -0.13094428,  0.20765881],\n",
       "       [-0.02344951, -0.0788148 , -0.21654958,  0.05132647,  0.0643499 ,\n",
       "        -0.08524956,  0.27399468,  0.39884394, -0.06573628, -0.07588428,\n",
       "         0.04217184, -0.10046446, -0.01474959,  0.08780954,  0.04532452,\n",
       "         0.06460927, -0.05989231,  0.01114466, -0.11057436,  0.21719901],\n",
       "       [-0.01804096, -0.14412834, -0.22810498,  0.01109002,  0.0465066 ,\n",
       "        -0.04723427,  0.30182832,  0.44879836, -0.10000102, -0.08384551,\n",
       "         0.03215984, -0.12439843, -0.04816092,  0.05681379,  0.082164  ,\n",
       "         0.00852384, -0.08882919,  0.02341083, -0.11866935,  0.22196409],\n",
       "       [-0.31754658, -0.07470189, -0.40464422,  0.6265968 , -0.14456174,\n",
       "        -0.4144012 ,  1.4023575 ,  0.27252108, -0.13111685, -0.9047904 ,\n",
       "        -0.15214059, -0.40928772, -0.03564608, -0.25973165,  0.8368684 ,\n",
       "         0.04192272, -0.31306005,  0.5278366 ,  0.21681258,  0.21617143],\n",
       "       [-0.31946677, -0.07202934, -0.39949754,  0.629896  , -0.14497262,\n",
       "        -0.4135845 ,  1.4129626 ,  0.27021167, -0.13193162, -0.9161485 ,\n",
       "        -0.15568337, -0.41577795, -0.03522184, -0.26081684,  0.8384419 ,\n",
       "         0.04291581, -0.31653556,  0.53462106,  0.2155076 ,  0.21622956],\n",
       "       [-0.32096335, -0.07046537, -0.39476287,  0.6339448 , -0.14749049,\n",
       "        -0.41316628,  1.4162378 ,  0.27027747, -0.13584054, -0.92141503,\n",
       "        -0.15600762, -0.42096454, -0.03299212, -0.26171654,  0.8408889 ,\n",
       "         0.03757949, -0.31725165,  0.53587306,  0.22099403,  0.21605635],\n",
       "       [-0.32081938, -0.06769951, -0.38740617,  0.6327833 , -0.14893593,\n",
       "        -0.4154491 ,  1.4136893 ,  0.26674917, -0.13263734, -0.91923183,\n",
       "        -0.15724076, -0.41785264, -0.02856107, -0.2609409 ,  0.84140044,\n",
       "         0.03838581, -0.3164181 ,  0.53250706,  0.2147772 ,  0.21669552],\n",
       "       [-0.32120898, -0.0670587 , -0.38748425,  0.62916505, -0.14720018,\n",
       "        -0.41307902,  1.4130774 ,  0.26922646, -0.13560283, -0.91796356,\n",
       "        -0.15345444, -0.419893  , -0.03135747, -0.26104245,  0.84477085,\n",
       "         0.03141547, -0.31624857,  0.53013146,  0.21952039,  0.21439461],\n",
       "       [-0.32137734, -0.06909002, -0.39416197,  0.63417864, -0.14898607,\n",
       "        -0.41719052,  1.415891  ,  0.2655495 , -0.13268375, -0.91890967,\n",
       "        -0.15498045, -0.41690233, -0.03130996, -0.26176974,  0.84558785,\n",
       "         0.03978243, -0.31581602,  0.53332824,  0.21971256,  0.21679646],\n",
       "       [-0.32486886, -0.0635445 , -0.39099658,  0.6453386 , -0.15379749,\n",
       "        -0.42350444,  1.4346339 ,  0.26247814, -0.13556671, -0.930228  ,\n",
       "        -0.15754059, -0.42418978, -0.02710965, -0.26940763,  0.85451484,\n",
       "         0.03906548, -0.31957698,  0.5434269 ,  0.22254568,  0.21443725],\n",
       "       [-0.32584503, -0.06463809, -0.38749123,  0.6434915 , -0.1523446 ,\n",
       "        -0.42157048,  1.4298579 ,  0.2624731 , -0.13305299, -0.92813563,\n",
       "        -0.15716407, -0.4237593 , -0.02824977, -0.26710272,  0.85132486,\n",
       "         0.03990983, -0.31828523,  0.5395791 ,  0.22020221,  0.21404442],\n",
       "       [-0.03108178, -0.10594603, -0.19666377,  0.05550332,  0.01742876,\n",
       "        -0.08946592,  0.31281668,  0.36008918, -0.06761537, -0.0779765 ,\n",
       "         0.01564866, -0.11309806, -0.02066372,  0.01592437,  0.10846235,\n",
       "         0.05247971, -0.07432221,  0.03130987, -0.11870283,  0.19415712],\n",
       "       [-0.0194413 , -0.11615257, -0.21523696,  0.02775662,  0.03397095,\n",
       "        -0.07786414,  0.28599936,  0.380486  , -0.06687947, -0.0545476 ,\n",
       "         0.03163438, -0.10390484, -0.02540781,  0.03303357,  0.08435946,\n",
       "         0.05710138, -0.07342318,  0.02328317, -0.13012645,  0.19807178],\n",
       "       [-0.02963974, -0.12558581, -0.22273833,  0.03052937,  0.04516409,\n",
       "        -0.06687603,  0.30173385,  0.41049317, -0.07852292, -0.06594217,\n",
       "         0.02666181, -0.12028761, -0.03958891,  0.0390324 ,  0.0853859 ,\n",
       "         0.04403249, -0.08074038,  0.03280339, -0.11859471,  0.20830783],\n",
       "       [-0.02381548, -0.10868309, -0.22145858,  0.04113024,  0.04441012,\n",
       "        -0.07923149,  0.29556865,  0.40942773, -0.07537116, -0.0757484 ,\n",
       "         0.03206261, -0.11167537, -0.0296801 ,  0.05994804,  0.07826053,\n",
       "         0.05197713, -0.07283413,  0.02614272, -0.11743206,  0.21710458],\n",
       "       [-0.01350909, -0.09875062, -0.18725121,  0.03562115,  0.02873896,\n",
       "        -0.08116141,  0.28966945,  0.3574785 , -0.0643232 , -0.05082788,\n",
       "         0.02244958, -0.10621904, -0.0147668 ,  0.03043322,  0.08299708,\n",
       "         0.06457295, -0.06483385,  0.03279578, -0.13252532,  0.1849949 ],\n",
       "       [-0.01914055, -0.1114693 , -0.19946319,  0.03337633,  0.0339039 ,\n",
       "        -0.07493572,  0.29971427,  0.38059765, -0.06999721, -0.06446733,\n",
       "         0.02375184, -0.11254352, -0.02635333,  0.03683502,  0.08287501,\n",
       "         0.0567281 , -0.07171658,  0.03084947, -0.12890255,  0.19873749],\n",
       "       [-0.32892773, -0.0677474 , -0.39710918,  0.6544743 , -0.1576555 ,\n",
       "        -0.42495742,  1.456142  ,  0.2711973 , -0.14393914, -0.9494177 ,\n",
       "        -0.16073807, -0.4322383 , -0.03286108, -0.27343908,  0.86123514,\n",
       "         0.03643449, -0.32681674,  0.5552097 ,  0.23162302,  0.22273251],\n",
       "       [-0.3273106 , -0.07272117, -0.39628246,  0.64518934, -0.15251403,\n",
       "        -0.41901112,  1.4416456 ,  0.27677923, -0.14054807, -0.94168204,\n",
       "        -0.15915811, -0.42708525, -0.03745195, -0.26600417,  0.8488455 ,\n",
       "         0.03589066, -0.32306483,  0.5452319 ,  0.22910851,  0.2248775 ],\n",
       "       [-0.32730332, -0.07047693, -0.40093908,  0.64710265, -0.1499845 ,\n",
       "        -0.42249677,  1.4368845 ,  0.2703747 , -0.13375454, -0.93402165,\n",
       "        -0.1579082 , -0.42263004, -0.03602237, -0.26500905,  0.84912854,\n",
       "         0.04332362, -0.321253  ,  0.54505587,  0.22220638,  0.22171421],\n",
       "       [-0.32983112, -0.06907727, -0.38709226,  0.64917636, -0.15576859,\n",
       "        -0.422972  ,  1.446266  ,  0.26844794, -0.13475035, -0.9445    ,\n",
       "        -0.16251484, -0.42693704, -0.03060503, -0.26746133,  0.84866077,\n",
       "         0.04055399, -0.32202297,  0.54598343,  0.22506419,  0.22147605],\n",
       "       [-0.32840377, -0.0677495 , -0.39839947,  0.65115374, -0.15579292,\n",
       "        -0.42331707,  1.4548047 ,  0.27290457, -0.14510742, -0.95001316,\n",
       "        -0.16016704, -0.43189684, -0.03521585, -0.26881966,  0.8590506 ,\n",
       "         0.03558092, -0.32566565,  0.5531802 ,  0.22953606,  0.2222614 ],\n",
       "       [-0.32852176, -0.06246614, -0.39043537,  0.6561382 , -0.1579783 ,\n",
       "        -0.42800313,  1.4483472 ,  0.2594408 , -0.13725176, -0.94225293,\n",
       "        -0.15856773, -0.42735058, -0.02611575, -0.2738593 ,  0.86268395,\n",
       "         0.03821213, -0.3241192 ,  0.55213106,  0.22803   ,  0.21704814],\n",
       "       [-0.32668367, -0.07145835, -0.40907893,  0.65547156, -0.15453202,\n",
       "        -0.42691228,  1.4467916 ,  0.27271813, -0.1373297 , -0.9367671 ,\n",
       "        -0.15629874, -0.4260824 , -0.03557026, -0.27027833,  0.8568265 ,\n",
       "         0.04327143, -0.3207184 ,  0.55341923,  0.23609072,  0.21743765],\n",
       "       [-0.32604402, -0.07263638, -0.41191313,  0.6564167 , -0.15713531,\n",
       "        -0.4260775 ,  1.4531798 ,  0.27166417, -0.14368978, -0.94288117,\n",
       "        -0.15779522, -0.42775762, -0.03940452, -0.27558386,  0.8595236 ,\n",
       "         0.03874331, -0.322871  ,  0.55577844,  0.23459649,  0.21980128],\n",
       "       [-0.32544196, -0.07185727, -0.40937155,  0.6543301 , -0.15921818,\n",
       "        -0.42558002,  1.4519272 ,  0.26902238, -0.14576873, -0.94310474,\n",
       "        -0.15812267, -0.42628014, -0.03858726, -0.2768346 ,  0.86114585,\n",
       "         0.03581812, -0.3238273 ,  0.55437434,  0.23476428,  0.22048567]],\n",
       "      dtype=float32)"
      ]
     },
     "execution_count": 20,
     "metadata": {},
     "output_type": "execute_result"
    }
   ],
   "source": [
    "z_run = vrae.transform(test_dataset)\n",
    "z_run"
   ]
  },
  {
   "cell_type": "code",
   "execution_count": 21,
   "metadata": {},
   "outputs": [
    {
     "data": {
      "text/plain": [
       "(36, 20)"
      ]
     },
     "execution_count": 21,
     "metadata": {},
     "output_type": "execute_result"
    }
   ],
   "source": [
    "z_run.shape"
   ]
  },
  {
   "cell_type": "code",
   "execution_count": 22,
   "metadata": {},
   "outputs": [],
   "source": [
    "from einops import rearrange\n",
    "import torch.nn as nn"
   ]
  },
  {
   "cell_type": "code",
   "execution_count": 23,
   "metadata": {},
   "outputs": [],
   "source": [
    "def concat_recon(recon_output):\n",
    "    w,b,f = recon_output.shape\n",
    "    \n",
    "    tmp = rearrange(recon_output, 'w b f -> b w f')\n",
    "\n",
    "    output = tmp.reshape(w*b,f)\n",
    "\n",
    "    return output\n",
    "\n",
    "def inverse_minmax(x):\n",
    "    inv_x = MM_scaler.inverse_transform(x)\n",
    "    return inv_x\n",
    "\n",
    "def eval_recon(recon, real):\n",
    "    criterion = nn.MSELoss()\n",
    "    \n",
    "    # undo minmax scaling\n",
    "    recon = inverse_minmax(recon)\n",
    "    r = recon.shape[0]\n",
    "    real = real[:r,:]\n",
    "    \n",
    "    # get shape\n",
    "    print(recon.shape)\n",
    "    print(real.shape)\n",
    "\n",
    "    # compute loss\n",
    "    loss = criterion(torch.tensor(recon), torch.tensor(real))\n",
    "    \n",
    "    return loss"
   ]
  },
  {
   "cell_type": "markdown",
   "metadata": {},
   "source": [
    "## Reconstruct"
   ]
  },
  {
   "cell_type": "markdown",
   "metadata": {},
   "source": [
    "### Train"
   ]
  },
  {
   "cell_type": "code",
   "execution_count": 24,
   "metadata": {
    "scrolled": true
   },
   "outputs": [
    {
     "name": "stdout",
     "output_type": "stream",
     "text": [
      "(100, 223, 92)\n"
     ]
    },
    {
     "data": {
      "text/plain": [
       "array([[[-4.8782602e-03,  3.2337829e-03, -1.6913610e-03, ...,\n",
       "          6.2147075e-01,  7.0292068e-01,  2.8031370e-01],\n",
       "        [-4.9236380e-03,  3.2461509e-03, -1.6001025e-03, ...,\n",
       "          6.2206912e-01,  7.0298964e-01,  2.8042886e-01],\n",
       "        [-4.9354248e-03,  3.2331198e-03, -1.6145194e-03, ...,\n",
       "          6.2230664e-01,  7.0309055e-01,  2.8042564e-01],\n",
       "        ...,\n",
       "        [-3.4472227e-02, -9.5225573e-03,  5.7191784e-03, ...,\n",
       "          7.4569672e-01,  7.9110867e-01,  3.2892352e-01],\n",
       "        [-3.5389028e-02, -1.0033652e-02,  6.0556410e-03, ...,\n",
       "          7.4901038e-01,  7.9370308e-01,  3.3004621e-01],\n",
       "        [-8.1553161e-03,  2.2513270e-03, -1.4175484e-03, ...,\n",
       "          6.4012724e-01,  7.1545595e-01,  2.8653452e-01]],\n",
       "\n",
       "       [[-1.6567037e-03,  2.6503503e-03,  1.9139936e-03, ...,\n",
       "          6.8743038e-01,  7.4862444e-01,  3.0775353e-01],\n",
       "        [-1.6512312e-03,  2.6184767e-03,  2.0051887e-03, ...,\n",
       "          6.8779141e-01,  7.4888068e-01,  3.0789512e-01],\n",
       "        [-1.6503185e-03,  2.6186258e-03,  2.0103035e-03, ...,\n",
       "          6.8796593e-01,  7.4901342e-01,  3.0793160e-01],\n",
       "        ...,\n",
       "        [-4.2267516e-03, -1.0419145e-02,  6.4529749e-03, ...,\n",
       "          7.7542579e-01,  8.5310256e-01,  3.4777275e-01],\n",
       "        [-4.4558048e-03, -1.0849565e-02,  6.5734638e-03, ...,\n",
       "          7.7813619e-01,  8.5628957e-01,  3.4898028e-01],\n",
       "        [-1.6586259e-03,  1.6380623e-03,  2.5436832e-03, ...,\n",
       "          7.0067978e-01,  7.6379764e-01,  3.1324226e-01]],\n",
       "\n",
       "       [[ 4.9375854e-03,  1.6947910e-03,  4.2304350e-03, ...,\n",
       "          7.1588659e-01,  7.8324109e-01,  3.1509942e-01],\n",
       "        [ 4.9596429e-03,  1.6809851e-03,  4.2763492e-03, ...,\n",
       "          7.1608549e-01,  7.8347117e-01,  3.1519300e-01],\n",
       "        [ 4.9685389e-03,  1.6890839e-03,  4.2812144e-03, ...,\n",
       "          7.1617961e-01,  7.8355527e-01,  3.1521028e-01],\n",
       "        ...,\n",
       "        [ 1.1190534e-02, -5.7779551e-03,  6.5705916e-03, ...,\n",
       "          7.6590526e-01,  8.6453897e-01,  3.3654115e-01],\n",
       "        [ 1.1266820e-02, -5.9990659e-03,  6.6411970e-03, ...,\n",
       "          7.6744086e-01,  8.6688572e-01,  3.3718953e-01],\n",
       "        [ 6.0618296e-03,  1.1971295e-03,  4.5849113e-03, ...,\n",
       "          7.2331512e-01,  7.9463613e-01,  3.1790829e-01]],\n",
       "\n",
       "       ...,\n",
       "\n",
       "       [[ 2.0323858e-02,  6.0436875e-04,  1.6204296e-03, ...,\n",
       "          7.3679191e-01,  8.4066612e-01,  3.1661502e-01],\n",
       "        [ 2.0323850e-02,  6.0436130e-04,  1.6204221e-03, ...,\n",
       "          7.3679191e-01,  8.4066612e-01,  3.1661502e-01],\n",
       "        [ 2.0323858e-02,  6.0436130e-04,  1.6204296e-03, ...,\n",
       "          7.3679191e-01,  8.4066612e-01,  3.1661502e-01],\n",
       "        ...,\n",
       "        [ 2.0323850e-02,  6.0437620e-04,  1.6204333e-03, ...,\n",
       "          7.3679191e-01,  8.4066612e-01,  3.1661502e-01],\n",
       "        [ 2.0323858e-02,  6.0438365e-04,  1.6204333e-03, ...,\n",
       "          7.3679191e-01,  8.4066612e-01,  3.1661499e-01],\n",
       "        [ 2.0323858e-02,  6.0436130e-04,  1.6204184e-03, ...,\n",
       "          7.3679191e-01,  8.4066612e-01,  3.1661502e-01]],\n",
       "\n",
       "       [[ 2.0323858e-02,  6.0436875e-04,  1.6204296e-03, ...,\n",
       "          7.3679191e-01,  8.4066612e-01,  3.1661502e-01],\n",
       "        [ 2.0323850e-02,  6.0436130e-04,  1.6204221e-03, ...,\n",
       "          7.3679191e-01,  8.4066612e-01,  3.1661499e-01],\n",
       "        [ 2.0323858e-02,  6.0436130e-04,  1.6204296e-03, ...,\n",
       "          7.3679191e-01,  8.4066612e-01,  3.1661502e-01],\n",
       "        ...,\n",
       "        [ 2.0323850e-02,  6.0437620e-04,  1.6204333e-03, ...,\n",
       "          7.3679191e-01,  8.4066612e-01,  3.1661502e-01],\n",
       "        [ 2.0323858e-02,  6.0438365e-04,  1.6204333e-03, ...,\n",
       "          7.3679191e-01,  8.4066612e-01,  3.1661499e-01],\n",
       "        [ 2.0323858e-02,  6.0436130e-04,  1.6204184e-03, ...,\n",
       "          7.3679191e-01,  8.4066612e-01,  3.1661502e-01]],\n",
       "\n",
       "       [[ 2.0323858e-02,  6.0436875e-04,  1.6204296e-03, ...,\n",
       "          7.3679191e-01,  8.4066612e-01,  3.1661502e-01],\n",
       "        [ 2.0323850e-02,  6.0436130e-04,  1.6204221e-03, ...,\n",
       "          7.3679191e-01,  8.4066612e-01,  3.1661502e-01],\n",
       "        [ 2.0323858e-02,  6.0436130e-04,  1.6204296e-03, ...,\n",
       "          7.3679191e-01,  8.4066612e-01,  3.1661502e-01],\n",
       "        ...,\n",
       "        [ 2.0323850e-02,  6.0437620e-04,  1.6204333e-03, ...,\n",
       "          7.3679191e-01,  8.4066612e-01,  3.1661502e-01],\n",
       "        [ 2.0323858e-02,  6.0438365e-04,  1.6204333e-03, ...,\n",
       "          7.3679191e-01,  8.4066612e-01,  3.1661499e-01],\n",
       "        [ 2.0323858e-02,  6.0436130e-04,  1.6204184e-03, ...,\n",
       "          7.3679191e-01,  8.4066612e-01,  3.1661502e-01]]], dtype=float32)"
      ]
     },
     "execution_count": 24,
     "metadata": {},
     "output_type": "execute_result"
    }
   ],
   "source": [
    "# train reconstruct\n",
    "train_recon = vrae.reconstruct(train_dataset)\n",
    "print(train_recon.shape)\n",
    "train_recon"
   ]
  },
  {
   "cell_type": "code",
   "execution_count": 25,
   "metadata": {},
   "outputs": [
    {
     "data": {
      "text/plain": [
       "(22300, 92)"
      ]
     },
     "execution_count": 25,
     "metadata": {},
     "output_type": "execute_result"
    }
   ],
   "source": [
    "train_recon = concat_recon(train_recon)\n",
    "train_recon.shape"
   ]
  },
  {
   "cell_type": "code",
   "execution_count": 26,
   "metadata": {},
   "outputs": [
    {
     "data": {
      "text/plain": [
       "22300"
      ]
     },
     "execution_count": 26,
     "metadata": {},
     "output_type": "execute_result"
    }
   ],
   "source": [
    "train_recon.shape[0]"
   ]
  },
  {
   "cell_type": "code",
   "execution_count": 27,
   "metadata": {},
   "outputs": [
    {
     "data": {
      "text/plain": [
       "(22363, 92)"
      ]
     },
     "execution_count": 27,
     "metadata": {},
     "output_type": "execute_result"
    }
   ],
   "source": [
    "TRAIN_DF.shape"
   ]
  },
  {
   "cell_type": "code",
   "execution_count": 28,
   "metadata": {},
   "outputs": [
    {
     "data": {
      "text/plain": [
       "(22300, 92)"
      ]
     },
     "execution_count": 28,
     "metadata": {},
     "output_type": "execute_result"
    }
   ],
   "source": [
    "TRAIN_DF[:22300,:].shape"
   ]
  },
  {
   "cell_type": "code",
   "execution_count": 29,
   "metadata": {},
   "outputs": [
    {
     "name": "stdout",
     "output_type": "stream",
     "text": [
      "(22300, 92)\n",
      "22300\n",
      "(22363, 92)\n",
      "(22300, 92)\n",
      "(22300, 92)\n"
     ]
    },
    {
     "data": {
      "text/plain": [
       "tensor(8.6821e+13, dtype=torch.float64)"
      ]
     },
     "execution_count": 29,
     "metadata": {},
     "output_type": "execute_result"
    }
   ],
   "source": [
    "eval_recon(train_recon, TRAIN_DF)"
   ]
  },
  {
   "cell_type": "markdown",
   "metadata": {},
   "source": [
    "### Test"
   ]
  },
  {
   "cell_type": "code",
   "execution_count": 30,
   "metadata": {
    "scrolled": true
   },
   "outputs": [
    {
     "name": "stdout",
     "output_type": "stream",
     "text": [
      "(100, 36, 92)\n"
     ]
    },
    {
     "data": {
      "text/plain": [
       "array([[[-3.2022916e-02, -8.7053478e-03,  5.0663734e-03, ...,\n",
       "          7.3718578e-01,  7.8325510e-01,  3.2488543e-01],\n",
       "        [-3.2122895e-02, -8.6695254e-03,  5.0868271e-03, ...,\n",
       "          7.3723871e-01,  7.8333461e-01,  3.2511094e-01],\n",
       "        [-3.2058015e-02, -8.7839365e-03,  5.0666286e-03, ...,\n",
       "          7.3749161e-01,  7.8350717e-01,  3.2499230e-01],\n",
       "        ...,\n",
       "        [-3.2968566e-02, -9.1041625e-03,  5.5342047e-03, ...,\n",
       "          7.4000162e-01,  7.8560388e-01,  3.2622138e-01],\n",
       "        [-3.2970339e-02, -9.1625080e-03,  5.5271098e-03, ...,\n",
       "          7.4040800e-01,  7.8598398e-01,  3.2629061e-01],\n",
       "        [-3.2929800e-02, -9.1449842e-03,  5.5504842e-03, ...,\n",
       "          7.4036354e-01,  7.8596669e-01,  3.2632855e-01]],\n",
       "\n",
       "       [[-3.9821714e-03, -9.3578100e-03,  6.2545603e-03, ...,\n",
       "          7.6981050e-01,  8.4496236e-01,  3.4480545e-01],\n",
       "        [-3.9937682e-03, -9.3560144e-03,  6.2569072e-03, ...,\n",
       "          7.6968658e-01,  8.4490842e-01,  3.4482506e-01],\n",
       "        [-3.9908513e-03, -9.4108284e-03,  6.2508984e-03, ...,\n",
       "          7.7008224e-01,  8.4527010e-01,  3.4493792e-01],\n",
       "        ...,\n",
       "        [-4.1297227e-03, -9.7484365e-03,  6.4071519e-03, ...,\n",
       "          7.7190375e-01,  8.4768343e-01,  3.4585884e-01],\n",
       "        [-4.1083880e-03, -9.8092780e-03,  6.3993605e-03, ...,\n",
       "          7.7225596e-01,  8.4813267e-01,  3.4600320e-01],\n",
       "        [-4.0706731e-03, -9.8164231e-03,  6.3954489e-03, ...,\n",
       "          7.7216309e-01,  8.4806216e-01,  3.4597588e-01]],\n",
       "\n",
       "       [[ 1.0764681e-02, -5.1019266e-03,  6.4701727e-03, ...,\n",
       "          7.6259845e-01,  8.5811847e-01,  3.3487988e-01],\n",
       "        [ 1.0767385e-02, -5.1159784e-03,  6.4710630e-03, ...,\n",
       "          7.6252264e-01,  8.5811895e-01,  3.3488777e-01],\n",
       "        [ 1.0780670e-02, -5.1232427e-03,  6.4720539e-03, ...,\n",
       "          7.6276559e-01,  8.5834748e-01,  3.3495224e-01],\n",
       "        ...,\n",
       "        [ 1.0850698e-02, -5.3243712e-03,  6.5413406e-03, ...,\n",
       "          7.6377887e-01,  8.6019057e-01,  3.3543736e-01],\n",
       "        [ 1.0884792e-02, -5.3476915e-03,  6.5401858e-03, ...,\n",
       "          7.6400024e-01,  8.6052614e-01,  3.3552271e-01],\n",
       "        [ 1.0897525e-02, -5.3516552e-03,  6.5350635e-03, ...,\n",
       "          7.6395303e-01,  8.6049384e-01,  3.3551064e-01]],\n",
       "\n",
       "       ...,\n",
       "\n",
       "       [[ 2.0323850e-02,  6.0437620e-04,  1.6204296e-03, ...,\n",
       "          7.3679191e-01,  8.4066612e-01,  3.1661499e-01],\n",
       "        [ 2.0323850e-02,  6.0436875e-04,  1.6204296e-03, ...,\n",
       "          7.3679191e-01,  8.4066612e-01,  3.1661502e-01],\n",
       "        [ 2.0323850e-02,  6.0437620e-04,  1.6204296e-03, ...,\n",
       "          7.3679191e-01,  8.4066612e-01,  3.1661502e-01],\n",
       "        ...,\n",
       "        [ 2.0323858e-02,  6.0437620e-04,  1.6204333e-03, ...,\n",
       "          7.3679191e-01,  8.4066612e-01,  3.1661499e-01],\n",
       "        [ 2.0323858e-02,  6.0437620e-04,  1.6204333e-03, ...,\n",
       "          7.3679191e-01,  8.4066612e-01,  3.1661499e-01],\n",
       "        [ 2.0323858e-02,  6.0436875e-04,  1.6204296e-03, ...,\n",
       "          7.3679191e-01,  8.4066612e-01,  3.1661499e-01]],\n",
       "\n",
       "       [[ 2.0323850e-02,  6.0437620e-04,  1.6204296e-03, ...,\n",
       "          7.3679191e-01,  8.4066612e-01,  3.1661499e-01],\n",
       "        [ 2.0323858e-02,  6.0436875e-04,  1.6204296e-03, ...,\n",
       "          7.3679191e-01,  8.4066612e-01,  3.1661502e-01],\n",
       "        [ 2.0323850e-02,  6.0437620e-04,  1.6204296e-03, ...,\n",
       "          7.3679191e-01,  8.4066612e-01,  3.1661502e-01],\n",
       "        ...,\n",
       "        [ 2.0323858e-02,  6.0437620e-04,  1.6204370e-03, ...,\n",
       "          7.3679191e-01,  8.4066612e-01,  3.1661499e-01],\n",
       "        [ 2.0323858e-02,  6.0437620e-04,  1.6204333e-03, ...,\n",
       "          7.3679191e-01,  8.4066612e-01,  3.1661499e-01],\n",
       "        [ 2.0323858e-02,  6.0436875e-04,  1.6204296e-03, ...,\n",
       "          7.3679191e-01,  8.4066612e-01,  3.1661499e-01]],\n",
       "\n",
       "       [[ 2.0323850e-02,  6.0437620e-04,  1.6204296e-03, ...,\n",
       "          7.3679191e-01,  8.4066612e-01,  3.1661499e-01],\n",
       "        [ 2.0323850e-02,  6.0436875e-04,  1.6204296e-03, ...,\n",
       "          7.3679191e-01,  8.4066612e-01,  3.1661502e-01],\n",
       "        [ 2.0323850e-02,  6.0437620e-04,  1.6204296e-03, ...,\n",
       "          7.3679191e-01,  8.4066612e-01,  3.1661502e-01],\n",
       "        ...,\n",
       "        [ 2.0323858e-02,  6.0437620e-04,  1.6204370e-03, ...,\n",
       "          7.3679191e-01,  8.4066612e-01,  3.1661499e-01],\n",
       "        [ 2.0323858e-02,  6.0437620e-04,  1.6204333e-03, ...,\n",
       "          7.3679191e-01,  8.4066612e-01,  3.1661499e-01],\n",
       "        [ 2.0323858e-02,  6.0436875e-04,  1.6204296e-03, ...,\n",
       "          7.3679191e-01,  8.4066612e-01,  3.1661499e-01]]], dtype=float32)"
      ]
     },
     "execution_count": 30,
     "metadata": {},
     "output_type": "execute_result"
    }
   ],
   "source": [
    "# test reconstruct\n",
    "test_recon = vrae.reconstruct(test_dataset)\n",
    "print(test_recon.shape)\n",
    "test_recon"
   ]
  },
  {
   "cell_type": "code",
   "execution_count": 31,
   "metadata": {},
   "outputs": [
    {
     "data": {
      "text/plain": [
       "(3600, 92)"
      ]
     },
     "execution_count": 31,
     "metadata": {},
     "output_type": "execute_result"
    }
   ],
   "source": [
    "test_recon = concat_recon(test_recon)\n",
    "test_recon.shape"
   ]
  },
  {
   "cell_type": "code",
   "execution_count": 32,
   "metadata": {},
   "outputs": [
    {
     "name": "stdout",
     "output_type": "stream",
     "text": [
      "(3600, 92)\n",
      "3600\n",
      "(3627, 92)\n",
      "(3600, 92)\n",
      "(3600, 92)\n"
     ]
    },
    {
     "data": {
      "text/plain": [
       "tensor(2.1009e+13, dtype=torch.float64)"
      ]
     },
     "execution_count": 32,
     "metadata": {},
     "output_type": "execute_result"
    }
   ],
   "source": [
    "eval_recon(test_recon, TEST_DF)"
   ]
  },
  {
   "cell_type": "code",
   "execution_count": null,
   "metadata": {},
   "outputs": [],
   "source": []
  }
 ],
 "metadata": {
  "kernelspec": {
   "display_name": "Python 3",
   "language": "python",
   "name": "python3"
  },
  "language_info": {
   "codemirror_mode": {
    "name": "ipython",
    "version": 3
   },
   "file_extension": ".py",
   "mimetype": "text/x-python",
   "name": "python",
   "nbconvert_exporter": "python",
   "pygments_lexer": "ipython3",
   "version": "3.6.9"
  }
 },
 "nbformat": 4,
 "nbformat_minor": 4
}

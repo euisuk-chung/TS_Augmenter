{
 "cells": [
  {
   "cell_type": "markdown",
   "metadata": {},
   "source": [
    "#### Contents\n",
    "\n",
    "0. [Load data and preprocess](#Load-data-and-preprocess)\n",
    "1. [Initialize VRAE object](#Initialize-VRAE-object)\n",
    "2. [Fit the model onto dataset](#Fit-the-model-onto-dataset)\n",
    "3. [Transform the input timeseries to encoded latent vectors](#Transform-the-input-timeseries-to-encoded-latent-vectors)\n",
    "4. [Save the model to be fetched later](#Save-the-model-to-be-fetched-later)"
   ]
  },
  {
   "cell_type": "markdown",
   "metadata": {},
   "source": [
    "### Import required modules"
   ]
  },
  {
   "cell_type": "code",
   "execution_count": 1,
   "metadata": {},
   "outputs": [],
   "source": [
    "from model.vrae import VRAE\n",
    "\n",
    "from model.utils import *\n",
    "import numpy as np\n",
    "import torch\n",
    "from torch.utils.data import DataLoader, Dataset\n",
    "from tqdm.notebook import trange\n",
    "import tqdm\n",
    "\n",
    "import pickle\n",
    "\n",
    "from sklearn.preprocessing import MinMaxScaler\n"
   ]
  },
  {
   "cell_type": "markdown",
   "metadata": {},
   "source": [
    "### Input parameters"
   ]
  },
  {
   "cell_type": "code",
   "execution_count": 2,
   "metadata": {},
   "outputs": [],
   "source": [
    "dload = './saved_model' #download directory"
   ]
  },
  {
   "cell_type": "markdown",
   "metadata": {},
   "source": [
    "### utils.load_data"
   ]
  },
  {
   "cell_type": "code",
   "execution_count": 3,
   "metadata": {},
   "outputs": [],
   "source": [
    "def load_gen_data(file_name, cols_to_remove = None):\n",
    "    \"\"\"\n",
    "    folder: folder where data is located\n",
    "    \"\"\"\n",
    "    \n",
    "    # define path(must be in pkl file)\n",
    "    data_loc = f'./data/netis/{file_name}.pkl'    \n",
    "    \n",
    "    # get data\n",
    "    with open(data_loc, 'rb') as f:\n",
    "        df = pickle.load(f)\n",
    "    \n",
    "    # if needed remove columns that is not necessary\n",
    "    if cols_to_remove != None:\n",
    "        df = df_total.drop(cols_to_remove, axis=1)\n",
    "    \n",
    "    df = df.dropna()\n",
    "    \n",
    "    # TRAIN TEST SPLIT\n",
    "    # TRAIN\n",
    "    TRAIN_DF = df.query('Time < 20211103184400 or Time > 20211106084400 and label==0')\n",
    "    \n",
    "    # TEST(GET ONLY 정상)\n",
    "    TEST_DF = df.query('Time >= 20211103184400 and Time <= 20211106084400 and label==0')\n",
    "\n",
    "    TOTAL_DF = df.to_numpy()\n",
    "    \n",
    "    # REMOVE TIME & LABEL\n",
    "    TRAIN_DF = TRAIN_DF.iloc[:,1:-1]\n",
    "    TEST_DF = TEST_DF.iloc[:,1:-1]\n",
    "    \n",
    "    scaler = MinMaxScaler()\n",
    "    \n",
    "    TRAIN_SCALED_DF = scaler.fit(TRAIN_DF).transform(TRAIN_DF)\n",
    "    TEST_SCALED_DF = scaler.transform(TEST_DF)\n",
    "    \n",
    "    return TOTAL_DF, TRAIN_SCALED_DF, TEST_SCALED_DF"
   ]
  },
  {
   "cell_type": "markdown",
   "metadata": {},
   "source": [
    "### Hyper parameters"
   ]
  },
  {
   "cell_type": "markdown",
   "metadata": {},
   "source": [
    "### Load data and preprocess\n",
    "- `file_name` : pkl file_name\n",
    "- `cols_to_remove` : generation 수행하지 않을 column 제거"
   ]
  },
  {
   "cell_type": "code",
   "execution_count": 4,
   "metadata": {},
   "outputs": [
    {
     "name": "stdout",
     "output_type": "stream",
     "text": [
      "(26002, 94)\n",
      "(22363, 92)\n",
      "(3627, 92)\n"
     ]
    }
   ],
   "source": [
    "# params\n",
    "file_name = 'netis'\n",
    "\n",
    "# load data\n",
    "TOTAL_DF, TRAIN_DF, TEST_DF = load_gen_data(file_name)\n",
    "\n",
    "# shape\n",
    "print(TOTAL_DF.shape)\n",
    "print(TRAIN_DF.shape)\n",
    "print(TEST_DF.shape)"
   ]
  },
  {
   "cell_type": "code",
   "execution_count": 5,
   "metadata": {
    "scrolled": true
   },
   "outputs": [
    {
     "data": {
      "text/plain": [
       "array([[3.66328864e-04, 2.52639355e-05, 2.90615333e-05, ...,\n",
       "        3.42446043e-01, 4.98597475e-01, 1.65289256e-01],\n",
       "       [2.66795942e-04, 3.25753827e-05, 3.13032504e-05, ...,\n",
       "        3.51079137e-01, 4.97896213e-01, 1.65289256e-01],\n",
       "       [2.01613776e-04, 1.37864421e-05, 3.04728091e-05, ...,\n",
       "        3.51079137e-01, 4.97896213e-01, 1.23966942e-01],\n",
       "       ...,\n",
       "       [2.66813941e-03, 9.48559406e-04, 3.24553957e-06, ...,\n",
       "        6.04316547e-01, 9.89481066e-01, 2.89256198e-01],\n",
       "       [1.45200665e-03, 2.26151271e-03, 3.08280452e-06, ...,\n",
       "        6.04316547e-01, 9.88779804e-01, 3.05785124e-01],\n",
       "       [8.30917887e-03, 8.96945321e-04, 7.79900694e-06, ...,\n",
       "        6.04316547e-01, 9.88779804e-01, 2.97520661e-01]])"
      ]
     },
     "execution_count": 5,
     "metadata": {},
     "output_type": "execute_result"
    }
   ],
   "source": [
    "TRAIN_DF"
   ]
  },
  {
   "cell_type": "code",
   "execution_count": 6,
   "metadata": {
    "scrolled": true
   },
   "outputs": [
    {
     "data": {
      "text/plain": [
       "array([[4.02355635e-03, 6.62881732e-05, 1.69243372e-05, ...,\n",
       "        6.79136691e-01, 3.52033661e-01, 2.14876033e-01],\n",
       "       [4.07135202e-03, 1.18662977e-04, 6.92800865e-06, ...,\n",
       "        6.79136691e-01, 3.52734923e-01, 2.14876033e-01],\n",
       "       [4.02378633e-03, 2.82489361e-04, 2.07942738e-05, ...,\n",
       "        6.79136691e-01, 3.52734923e-01, 2.14876033e-01],\n",
       "       ...,\n",
       "       [3.98419630e-03, 7.85747554e-05, 1.75819403e-05, ...,\n",
       "        5.98561151e-01, 4.25666199e-01, 2.56198347e-01],\n",
       "       [3.98799304e-03, 4.90275879e-05, 3.81572787e-06, ...,\n",
       "        6.00000000e-01, 4.24964937e-01, 2.56198347e-01],\n",
       "       [3.93781591e-03, 3.97621553e-05, 8.13602856e-06, ...,\n",
       "        6.04316547e-01, 4.24964937e-01, 2.47933884e-01]])"
      ]
     },
     "execution_count": 6,
     "metadata": {},
     "output_type": "execute_result"
    }
   ],
   "source": [
    "TEST_DF"
   ]
  },
  {
   "cell_type": "code",
   "execution_count": 7,
   "metadata": {},
   "outputs": [],
   "source": [
    "class GenerationDataset(Dataset):\n",
    "    def __init__(self, data, window):\n",
    "        self.data = torch.Tensor(data)\n",
    "        self.window = window\n",
    " \n",
    "    def __len__(self):\n",
    "        return len(self.data) // self.window # -1\n",
    "    \n",
    "    def __getitem__(self, index):\n",
    "#         x = self.data[index*self.window:index*(self.window+1)]\n",
    "        x = self.data[index*self.window:(index+1)*(self.window)]\n",
    "        return x"
   ]
  },
  {
   "cell_type": "code",
   "execution_count": 8,
   "metadata": {},
   "outputs": [],
   "source": [
    "window = 100"
   ]
  },
  {
   "cell_type": "code",
   "execution_count": 9,
   "metadata": {},
   "outputs": [
    {
     "data": {
      "text/plain": [
       "<__main__.GenerationDataset at 0x7f8cce18b6d8>"
      ]
     },
     "execution_count": 9,
     "metadata": {},
     "output_type": "execute_result"
    }
   ],
   "source": [
    "train_dataset = GenerationDataset(TRAIN_DF, window)\n",
    "train_dataset"
   ]
  },
  {
   "cell_type": "code",
   "execution_count": 10,
   "metadata": {},
   "outputs": [
    {
     "data": {
      "text/plain": [
       "<__main__.GenerationDataset at 0x7f8cce18b588>"
      ]
     },
     "execution_count": 10,
     "metadata": {},
     "output_type": "execute_result"
    }
   ],
   "source": [
    "test_dataset = GenerationDataset(TEST_DF, window)\n",
    "test_dataset"
   ]
  },
  {
   "cell_type": "code",
   "execution_count": 11,
   "metadata": {},
   "outputs": [
    {
     "data": {
      "text/plain": [
       "torch.Size([100, 92])"
      ]
     },
     "execution_count": 11,
     "metadata": {},
     "output_type": "execute_result"
    }
   ],
   "source": [
    "train_dataset[0].shape"
   ]
  },
  {
   "cell_type": "markdown",
   "metadata": {},
   "source": [
    "**Fetch `sequence_length` from dataset**"
   ]
  },
  {
   "cell_type": "code",
   "execution_count": 12,
   "metadata": {},
   "outputs": [
    {
     "data": {
      "text/plain": [
       "100"
      ]
     },
     "execution_count": 12,
     "metadata": {},
     "output_type": "execute_result"
    }
   ],
   "source": [
    "sequence_length = train_dataset[0].shape[0]\n",
    "sequence_length"
   ]
  },
  {
   "cell_type": "markdown",
   "metadata": {},
   "source": [
    "**Fetch `number_of_features` from dataset**\n",
    "\n",
    "This config corresponds to number of input features"
   ]
  },
  {
   "cell_type": "code",
   "execution_count": 13,
   "metadata": {},
   "outputs": [
    {
     "data": {
      "text/plain": [
       "92"
      ]
     },
     "execution_count": 13,
     "metadata": {},
     "output_type": "execute_result"
    }
   ],
   "source": [
    "number_of_features = train_dataset[0].shape[1]\n",
    "number_of_features"
   ]
  },
  {
   "cell_type": "markdown",
   "metadata": {},
   "source": [
    "### Parameters"
   ]
  },
  {
   "cell_type": "code",
   "execution_count": 14,
   "metadata": {},
   "outputs": [],
   "source": [
    "n_epochs = 10\n",
    "hidden_size = 90\n",
    "hidden_layer_depth = 1\n",
    "latent_length = 20\n",
    "batch_size = 1\n",
    "learning_rate = 0.0005\n",
    "dropout_rate = 0.2\n",
    "optimizer = 'Adam' # options: ADAM, SGD\n",
    "cuda = True # options: True, False\n",
    "print_every=30\n",
    "clip = True # options: True, False\n",
    "max_grad_norm=5\n",
    "loss = 'MSELoss' # options: SmoothL1Loss, MSELoss\n",
    "block = 'LSTM' # options: LSTM, GRU"
   ]
  },
  {
   "cell_type": "markdown",
   "metadata": {},
   "source": [
    "### Initialize VRAE object\n",
    "\n",
    "VRAE inherits from `sklearn.base.BaseEstimator` and overrides `fit`, `transform` and `fit_transform` functions, similar to sklearn modules"
   ]
  },
  {
   "cell_type": "code",
   "execution_count": 15,
   "metadata": {},
   "outputs": [
    {
     "name": "stderr",
     "output_type": "stream",
     "text": [
      "/usr/local/lib/python3.6/dist-packages/torch/nn/modules/rnn.py:65: UserWarning: dropout option adds dropout after all but last recurrent layer, so non-zero dropout expects num_layers greater than 1, but got dropout=0.2 and num_layers=1\n",
      "  \"num_layers={}\".format(dropout, num_layers))\n",
      "/usr/local/lib/python3.6/dist-packages/torch/nn/_reduction.py:42: UserWarning: size_average and reduce args will be deprecated, please use reduction='sum' instead.\n",
      "  warnings.warn(warning.format(ret))\n"
     ]
    }
   ],
   "source": [
    "vrae = VRAE(sequence_length=sequence_length,\n",
    "            number_of_features = number_of_features,\n",
    "            hidden_size = hidden_size, \n",
    "            hidden_layer_depth = hidden_layer_depth,\n",
    "            latent_length = latent_length,\n",
    "            batch_size = batch_size,\n",
    "            learning_rate = learning_rate,\n",
    "            n_epochs = n_epochs,\n",
    "            dropout_rate = dropout_rate,\n",
    "            optimizer = optimizer, \n",
    "            cuda = cuda,\n",
    "            print_every=print_every, \n",
    "            clip=clip, \n",
    "            max_grad_norm=max_grad_norm,\n",
    "            loss = loss,\n",
    "            block = block,\n",
    "            dload = dload)"
   ]
  },
  {
   "cell_type": "markdown",
   "metadata": {},
   "source": [
    "### Fit the model onto dataset"
   ]
  },
  {
   "cell_type": "code",
   "execution_count": 16,
   "metadata": {
    "scrolled": true
   },
   "outputs": [
    {
     "data": {
      "application/vnd.jupyter.widget-view+json": {
       "model_id": "e4813842cf024c089669a27e63c2b40a",
       "version_major": 2,
       "version_minor": 0
      },
      "text/plain": [
       "HBox(children=(FloatProgress(value=0.0, max=10.0), HTML(value='')))"
      ]
     },
     "metadata": {},
     "output_type": "display_data"
    },
    {
     "name": "stdout",
     "output_type": "stream",
     "text": [
      "Epoch: 0\n",
      "Batch 30, loss = 17.2607, recon_loss = 17.2308, kl_loss = 0.0300\n",
      "Batch 60, loss = 1.0192, recon_loss = 0.7428, kl_loss = 0.2764\n",
      "Batch 90, loss = 1.2719, recon_loss = 1.1037, kl_loss = 0.1682\n",
      "Batch 120, loss = 1.1252, recon_loss = 0.9868, kl_loss = 0.1384\n",
      "Batch 150, loss = 110.3502, recon_loss = 110.0484, kl_loss = 0.3019\n",
      "Batch 180, loss = 33.3222, recon_loss = 33.1574, kl_loss = 0.1649\n",
      "Batch 210, loss = 145.5286, recon_loss = 145.3427, kl_loss = 0.1859\n",
      "Average loss: 38.9272\n",
      "Epoch: 1\n",
      "Batch 30, loss = 18.8910, recon_loss = 18.8075, kl_loss = 0.0835\n",
      "Batch 60, loss = 0.9281, recon_loss = 0.8554, kl_loss = 0.0728\n",
      "Batch 90, loss = 1.1660, recon_loss = 1.0664, kl_loss = 0.0997\n",
      "Batch 120, loss = 0.6524, recon_loss = 0.5681, kl_loss = 0.0843\n",
      "Batch 150, loss = 128.0257, recon_loss = 127.8613, kl_loss = 0.1644\n",
      "Batch 180, loss = 51.9307, recon_loss = 51.7552, kl_loss = 0.1754\n",
      "Batch 210, loss = 93.1384, recon_loss = 93.0669, kl_loss = 0.0715\n",
      "Average loss: 43.6568\n",
      "Epoch: 2\n",
      "Batch 30, loss = 21.6077, recon_loss = 21.5497, kl_loss = 0.0580\n",
      "Batch 60, loss = 1.7836, recon_loss = 1.7284, kl_loss = 0.0552\n",
      "Batch 90, loss = 1.0753, recon_loss = 0.9988, kl_loss = 0.0766\n",
      "Batch 120, loss = 0.6304, recon_loss = 0.5828, kl_loss = 0.0476\n",
      "Batch 150, loss = 138.4689, recon_loss = 138.2979, kl_loss = 0.1711\n",
      "Batch 180, loss = 79.7147, recon_loss = 79.5824, kl_loss = 0.1323\n",
      "Batch 210, loss = 60.6241, recon_loss = 60.5554, kl_loss = 0.0688\n",
      "Average loss: 45.6733\n",
      "Epoch: 3\n",
      "Batch 30, loss = 18.3398, recon_loss = 18.2870, kl_loss = 0.0528\n",
      "Batch 60, loss = 2.7533, recon_loss = 2.7039, kl_loss = 0.0493\n",
      "Batch 90, loss = 1.1409, recon_loss = 1.0862, kl_loss = 0.0547\n",
      "Batch 120, loss = 0.5982, recon_loss = 0.5470, kl_loss = 0.0512\n",
      "Batch 150, loss = 141.9139, recon_loss = 141.8238, kl_loss = 0.0901\n",
      "Batch 180, loss = 92.5384, recon_loss = 92.4590, kl_loss = 0.0794\n",
      "Batch 210, loss = 48.7802, recon_loss = 48.7437, kl_loss = 0.0365\n",
      "Average loss: 44.9404\n",
      "Epoch: 4\n",
      "Batch 30, loss = 14.4291, recon_loss = 14.3975, kl_loss = 0.0316\n",
      "Batch 60, loss = 2.4404, recon_loss = 2.4057, kl_loss = 0.0347\n",
      "Batch 90, loss = 1.1179, recon_loss = 1.0900, kl_loss = 0.0279\n",
      "Batch 120, loss = 0.5609, recon_loss = 0.5373, kl_loss = 0.0236\n",
      "Batch 150, loss = 145.4616, recon_loss = 145.3803, kl_loss = 0.0813\n",
      "Batch 180, loss = 101.5559, recon_loss = 101.4878, kl_loss = 0.0681\n",
      "Batch 210, loss = 43.8126, recon_loss = 43.7890, kl_loss = 0.0235\n",
      "Average loss: 44.9949\n",
      "Epoch: 5\n",
      "Batch 30, loss = 12.1140, recon_loss = 12.0973, kl_loss = 0.0167\n",
      "Batch 60, loss = 1.9644, recon_loss = 1.9459, kl_loss = 0.0185\n",
      "Batch 90, loss = 1.0269, recon_loss = 1.0094, kl_loss = 0.0175\n",
      "Batch 120, loss = 0.6150, recon_loss = 0.5989, kl_loss = 0.0161\n",
      "Batch 150, loss = 147.1264, recon_loss = 147.0306, kl_loss = 0.0958\n",
      "Batch 180, loss = 107.5427, recon_loss = 107.4604, kl_loss = 0.0823\n",
      "Batch 210, loss = 39.9461, recon_loss = 39.9313, kl_loss = 0.0148\n",
      "Average loss: 44.9456\n",
      "Epoch: 6\n",
      "Batch 30, loss = 11.6816, recon_loss = 11.6680, kl_loss = 0.0136\n",
      "Batch 60, loss = 1.9226, recon_loss = 1.9069, kl_loss = 0.0156\n",
      "Batch 90, loss = 1.0172, recon_loss = 1.0074, kl_loss = 0.0098\n",
      "Batch 120, loss = 0.5924, recon_loss = 0.5856, kl_loss = 0.0068\n",
      "Batch 150, loss = 148.2743, recon_loss = 148.1772, kl_loss = 0.0971\n",
      "Batch 180, loss = 112.2931, recon_loss = 112.2080, kl_loss = 0.0852\n",
      "Batch 210, loss = 36.8963, recon_loss = 36.8881, kl_loss = 0.0082\n",
      "Average loss: 45.1916\n",
      "Epoch: 7\n",
      "Batch 30, loss = 11.2218, recon_loss = 11.2138, kl_loss = 0.0080\n",
      "Batch 60, loss = 1.9174, recon_loss = 1.9076, kl_loss = 0.0098\n",
      "Batch 90, loss = 0.9982, recon_loss = 0.9899, kl_loss = 0.0083\n",
      "Batch 120, loss = 0.5451, recon_loss = 0.5402, kl_loss = 0.0049\n",
      "Batch 150, loss = 148.6863, recon_loss = 148.5709, kl_loss = 0.1154\n",
      "Batch 180, loss = 115.5712, recon_loss = 115.4611, kl_loss = 0.1102\n",
      "Batch 210, loss = 36.3620, recon_loss = 36.3572, kl_loss = 0.0048\n",
      "Average loss: 45.4672\n",
      "Epoch: 8\n",
      "Batch 30, loss = 10.0242, recon_loss = 10.0194, kl_loss = 0.0048\n",
      "Batch 60, loss = 1.5342, recon_loss = 1.5281, kl_loss = 0.0061\n",
      "Batch 90, loss = 0.9790, recon_loss = 0.9735, kl_loss = 0.0055\n",
      "Batch 120, loss = 0.5441, recon_loss = 0.5416, kl_loss = 0.0025\n",
      "Batch 150, loss = 149.9109, recon_loss = 149.7869, kl_loss = 0.1240\n",
      "Batch 180, loss = 118.3873, recon_loss = 118.3023, kl_loss = 0.0850\n",
      "Batch 210, loss = 35.0234, recon_loss = 35.0195, kl_loss = 0.0039\n",
      "Average loss: 45.7772\n",
      "Epoch: 9\n",
      "Batch 30, loss = 9.7754, recon_loss = 9.7725, kl_loss = 0.0029\n",
      "Batch 60, loss = 1.5486, recon_loss = 1.5442, kl_loss = 0.0044\n",
      "Batch 90, loss = 0.9757, recon_loss = 0.9716, kl_loss = 0.0040\n",
      "Batch 120, loss = 0.5625, recon_loss = 0.5610, kl_loss = 0.0015\n",
      "Batch 150, loss = 149.2777, recon_loss = 149.1568, kl_loss = 0.1209\n",
      "Batch 180, loss = 118.6591, recon_loss = 118.4925, kl_loss = 0.1666\n",
      "Batch 210, loss = 34.4294, recon_loss = 34.4238, kl_loss = 0.0056\n",
      "Average loss: 45.5369\n",
      "\n"
     ]
    }
   ],
   "source": [
    "loss_arr = vrae.fit(train_dataset)\n",
    "\n",
    "#If the model has to be saved, with the learnt parameters use:\n",
    "# vrae.fit(dataset, save = True)"
   ]
  },
  {
   "cell_type": "code",
   "execution_count": 17,
   "metadata": {},
   "outputs": [
    {
     "data": {
      "text/plain": [
       "[<matplotlib.lines.Line2D at 0x7f8cbc252898>]"
      ]
     },
     "execution_count": 17,
     "metadata": {},
     "output_type": "execute_result"
    },
    {
     "data": {
      "image/png": "[encoded data removed]",
      "text/plain": [
       "<Figure size 432x288 with 1 Axes>"
      ]
     },
     "metadata": {
      "needs_background": "light"
     },
     "output_type": "display_data"
    }
   ],
   "source": [
    "import matplotlib.pyplot as plt\n",
    "\n",
    "plt.plot(loss_arr)"
   ]
  },
  {
   "cell_type": "markdown",
   "metadata": {},
   "source": [
    "### Save the model to be fetched later"
   ]
  },
  {
   "cell_type": "code",
   "execution_count": 18,
   "metadata": {},
   "outputs": [],
   "source": [
    "vrae.save('vrae.pth')\n",
    "\n",
    "# To load a presaved model, execute:\n",
    "# vrae.load('vrae.pth')"
   ]
  },
  {
   "cell_type": "code",
   "execution_count": 19,
   "metadata": {},
   "outputs": [
    {
     "data": {
      "text/plain": [
       "True"
      ]
     },
     "execution_count": 19,
     "metadata": {},
     "output_type": "execute_result"
    }
   ],
   "source": [
    "vrae.is_fitted"
   ]
  },
  {
   "cell_type": "markdown",
   "metadata": {},
   "source": [
    "### Transform the input timeseries to encoded latent vectors"
   ]
  },
  {
   "cell_type": "code",
   "execution_count": 20,
   "metadata": {
    "scrolled": true
   },
   "outputs": [
    {
     "data": {
      "text/plain": [
       "array([[ 6.78621769e-01,  6.41180277e-01, -1.07185698e+00,\n",
       "        -3.60839427e-01, -3.73065680e-01,  7.25541234e-01,\n",
       "        -1.00064301e+00,  1.16140497e+00, -2.83469826e-01,\n",
       "        -6.01046622e-01, -1.50305197e-01,  3.38497683e-02,\n",
       "         7.25846291e-01, -6.85653329e-01,  5.02130128e-02,\n",
       "         2.35655427e-01,  1.54280365e-01, -8.75921011e-01,\n",
       "        -2.34609619e-01,  1.02108634e+00],\n",
       "       [ 6.78124905e-01,  6.38966918e-01, -1.07427108e+00,\n",
       "        -3.63327205e-01, -3.74683857e-01,  7.23096728e-01,\n",
       "        -9.99035776e-01,  1.15799403e+00, -2.83488959e-01,\n",
       "        -6.02683723e-01, -1.47499427e-01,  3.36270854e-02,\n",
       "         7.26484299e-01, -6.86457276e-01,  5.36962338e-02,\n",
       "         2.37272739e-01,  1.53463200e-01, -8.76969934e-01,\n",
       "        -2.32551992e-01,  1.01991343e+00],\n",
       "       [ 6.83080852e-01,  6.43902004e-01, -1.07806647e+00,\n",
       "        -3.61071825e-01, -3.74351352e-01,  7.28027165e-01,\n",
       "        -1.00492501e+00,  1.16427028e+00, -2.86816746e-01,\n",
       "        -6.05969429e-01, -1.49361163e-01,  3.35581452e-02,\n",
       "         7.26475179e-01, -6.84706330e-01,  4.87301983e-02,\n",
       "         2.36331642e-01,  1.54010355e-01, -8.80372345e-01,\n",
       "        -2.35019714e-01,  1.02072740e+00],\n",
       "       [ 6.80893958e-01,  6.38788700e-01, -1.07131815e+00,\n",
       "        -3.62039208e-01, -3.72841954e-01,  7.27587342e-01,\n",
       "        -1.00112545e+00,  1.16335952e+00, -2.84558773e-01,\n",
       "        -6.01787090e-01, -1.49451494e-01,  3.49942818e-02,\n",
       "         7.29269028e-01, -6.86970949e-01,  4.60743047e-02,\n",
       "         2.37905592e-01,  1.52838111e-01, -8.78890157e-01,\n",
       "        -2.34918565e-01,  1.01941097e+00],\n",
       "       [ 6.84211433e-01,  6.45749688e-01, -1.07627249e+00,\n",
       "        -3.61075759e-01, -3.73093396e-01,  7.28063405e-01,\n",
       "        -1.00520825e+00,  1.16608334e+00, -2.85783142e-01,\n",
       "        -6.02650940e-01, -1.49825841e-01,  3.37437615e-02,\n",
       "         7.28116095e-01, -6.85859919e-01,  4.95417900e-02,\n",
       "         2.37043083e-01,  1.52902007e-01, -8.81693065e-01,\n",
       "        -2.35361278e-01,  1.02300739e+00],\n",
       "       [ 6.81550562e-01,  6.40735984e-01, -1.08388913e+00,\n",
       "        -3.63341957e-01, -3.76436323e-01,  7.25535274e-01,\n",
       "        -1.00102997e+00,  1.15773571e+00, -2.83061504e-01,\n",
       "        -6.03135228e-01, -1.44075006e-01,  3.28660980e-02,\n",
       "         7.33003378e-01, -6.85514808e-01,  5.65645285e-02,\n",
       "         2.41036564e-01,  1.52203217e-01, -8.84025514e-01,\n",
       "        -2.33710900e-01,  1.02221298e+00],\n",
       "       [ 6.86957359e-01,  6.39538050e-01, -1.08068752e+00,\n",
       "        -3.62777472e-01, -3.78334999e-01,  7.26873815e-01,\n",
       "        -1.00052929e+00,  1.16172361e+00, -2.83956766e-01,\n",
       "        -6.05933785e-01, -1.48888826e-01,  3.11288387e-02,\n",
       "         7.31413126e-01, -6.85656130e-01,  5.60736842e-02,\n",
       "         2.44224429e-01,  1.48753464e-01, -8.87317538e-01,\n",
       "        -2.33600631e-01,  1.02240157e+00],\n",
       "       [ 6.86299145e-01,  6.44526601e-01, -1.07962978e+00,\n",
       "        -3.60805541e-01, -3.76214266e-01,  7.28427589e-01,\n",
       "        -1.00607991e+00,  1.16560006e+00, -2.87232816e-01,\n",
       "        -6.07563972e-01, -1.50176153e-01,  3.21199298e-02,\n",
       "         7.27465153e-01, -6.85027421e-01,  5.04549183e-02,\n",
       "         2.37718284e-01,  1.52836189e-01, -8.83020163e-01,\n",
       "        -2.34600663e-01,  1.02080607e+00],\n",
       "       [ 7.03551397e-02,  3.29553820e-02, -1.58912092e-02,\n",
       "         2.70713121e-03, -5.85090369e-03, -1.54541098e-02,\n",
       "        -7.57239014e-03,  8.30654502e-02, -1.04238316e-02,\n",
       "        -1.14227645e-01,  1.44006386e-02,  6.70062155e-02,\n",
       "        -5.05289584e-02, -2.85774022e-02, -3.31595503e-02,\n",
       "        -2.57754698e-03, -1.32317152e-02, -6.43118471e-03,\n",
       "        -3.55176665e-02, -1.24042109e-03],\n",
       "       [ 6.68721870e-02,  3.09454687e-02, -1.24997273e-02,\n",
       "        -1.85485557e-03, -1.72242522e-03, -1.31935030e-02,\n",
       "        -8.99732858e-03,  8.97472203e-02, -1.09877810e-02,\n",
       "        -1.08318232e-01,  1.40969232e-02,  7.55393207e-02,\n",
       "        -4.09413576e-02, -3.23836058e-02, -4.85170446e-02,\n",
       "        -7.83000141e-04, -1.36364400e-02, -6.80008531e-03,\n",
       "        -3.11469324e-02,  1.95685402e-03],\n",
       "       [ 5.57538643e-02,  2.99201570e-02, -6.20462745e-03,\n",
       "        -2.11841054e-03, -5.72111458e-03, -1.34350508e-02,\n",
       "         7.73780048e-04,  7.43219107e-02, -1.18763074e-02,\n",
       "        -1.05584361e-01,  7.94952363e-03,  6.90074414e-02,\n",
       "        -5.28964028e-02, -2.49507576e-02, -3.89964022e-02,\n",
       "        -1.60922110e-03, -9.74035263e-03, -6.98633492e-04,\n",
       "        -3.16931456e-02,  8.42238963e-03],\n",
       "       [ 1.48145556e-02,  4.86127287e-03,  3.10222954e-02,\n",
       "         5.49656898e-03, -2.67815441e-02, -2.86736265e-02,\n",
       "         3.43649834e-02,  6.99364543e-02,  3.00841033e-03,\n",
       "        -1.27101958e-01, -1.99021026e-02,  4.16998416e-02,\n",
       "        -8.19889456e-02, -5.83718345e-03, -5.03141321e-02,\n",
       "        -2.87338644e-02,  1.40400147e-02,  2.10724697e-02,\n",
       "        -3.68166082e-02, -1.52806938e-03],\n",
       "       [ 8.84451941e-02,  1.78383887e-02,  3.99381667e-03,\n",
       "         5.51434979e-03, -2.84978747e-02, -1.08110011e-02,\n",
       "         2.66392492e-02,  5.34013622e-02, -1.21468529e-02,\n",
       "        -9.96494368e-02, -8.22038203e-03,  6.45824745e-02,\n",
       "        -5.98041862e-02, -1.95070282e-02, -4.04199623e-02,\n",
       "         1.60932019e-02, -2.22105421e-02, -1.94639862e-02,\n",
       "        -3.75187695e-02,  1.12459548e-02],\n",
       "       [ 6.70226216e-01,  6.40753806e-01, -1.05324042e+00,\n",
       "        -3.63855064e-01, -3.72768909e-01,  7.39979744e-01,\n",
       "        -1.00359082e+00,  1.15729845e+00, -2.82113135e-01,\n",
       "        -5.94845772e-01, -1.57354057e-01,  2.67250463e-02,\n",
       "         7.35205710e-01, -6.91910148e-01,  4.47748043e-02,\n",
       "         2.37331599e-01,  1.54069901e-01, -8.68871212e-01,\n",
       "        -2.35098436e-01,  1.02292120e+00],\n",
       "       [ 6.76068187e-01,  6.40910983e-01, -1.06102991e+00,\n",
       "        -3.59613568e-01, -3.77498895e-01,  7.38690972e-01,\n",
       "        -1.00138164e+00,  1.15657997e+00, -2.79871792e-01,\n",
       "        -5.92145443e-01, -1.58272326e-01,  2.61331722e-02,\n",
       "         7.35188544e-01, -6.91841364e-01,  4.94007803e-02,\n",
       "         2.46094614e-01,  1.51473641e-01, -8.77470672e-01,\n",
       "        -2.38064498e-01,  1.02463579e+00],\n",
       "       [ 6.80383861e-01,  6.39936924e-01, -1.06423342e+00,\n",
       "        -3.59104663e-01, -3.83982897e-01,  7.38963008e-01,\n",
       "        -9.99742806e-01,  1.15667248e+00, -2.80845672e-01,\n",
       "        -5.95567584e-01, -1.61359608e-01,  2.37758979e-02,\n",
       "         7.34020174e-01, -6.90556943e-01,  5.33516295e-02,\n",
       "         2.50104845e-01,  1.49480447e-01, -8.82698476e-01,\n",
       "        -2.37762555e-01,  1.02854836e+00],\n",
       "       [ 6.75395787e-01,  6.36017859e-01, -1.06608760e+00,\n",
       "        -3.60893011e-01, -3.82612109e-01,  7.36975074e-01,\n",
       "        -9.95383322e-01,  1.15334380e+00, -2.77197301e-01,\n",
       "        -5.96519113e-01, -1.60972416e-01,  2.29541138e-02,\n",
       "         7.34647095e-01, -6.89991355e-01,  6.03154637e-02,\n",
       "         2.50660658e-01,  1.49501592e-01, -8.82417202e-01,\n",
       "        -2.37865865e-01,  1.02933919e+00],\n",
       "       [ 6.79718971e-01,  6.37134373e-01, -1.06319404e+00,\n",
       "        -3.57644618e-01, -3.84932935e-01,  7.38138199e-01,\n",
       "        -9.95932639e-01,  1.15438712e+00, -2.74991721e-01,\n",
       "        -5.94465494e-01, -1.65432349e-01,  1.94592439e-02,\n",
       "         7.35193133e-01, -6.90136611e-01,  6.33855909e-02,\n",
       "         2.54576206e-01,  1.46293849e-01, -8.84607494e-01,\n",
       "        -2.39286616e-01,  1.03054893e+00],\n",
       "       [ 6.75259411e-01,  6.40422463e-01, -1.06737113e+00,\n",
       "        -3.58242750e-01, -3.77392352e-01,  7.39828467e-01,\n",
       "        -1.00067210e+00,  1.15911520e+00, -2.76905626e-01,\n",
       "        -5.96111894e-01, -1.61282480e-01,  2.40548477e-02,\n",
       "         7.36245930e-01, -6.90866828e-01,  5.68485148e-02,\n",
       "         2.46657878e-01,  1.51016682e-01, -8.81737053e-01,\n",
       "        -2.38711983e-01,  1.02861905e+00],\n",
       "       [ 6.84856236e-01,  6.46867514e-01, -1.08540905e+00,\n",
       "        -3.58041972e-01, -3.78916383e-01,  7.44219124e-01,\n",
       "        -1.00782013e+00,  1.16329503e+00, -2.77387232e-01,\n",
       "        -5.97382188e-01, -1.54325366e-01,  2.47431993e-02,\n",
       "         7.45717168e-01, -6.90039575e-01,  5.77652343e-02,\n",
       "         2.53213942e-01,  1.47038832e-01, -8.95630658e-01,\n",
       "        -2.40793109e-01,  1.03392661e+00],\n",
       "       [ 6.83862627e-01,  6.44691110e-01, -1.07932615e+00,\n",
       "        -3.58757377e-01, -3.80112737e-01,  7.41555154e-01,\n",
       "        -1.00603831e+00,  1.16073143e+00, -2.77665168e-01,\n",
       "        -5.96632183e-01, -1.55390188e-01,  2.35330611e-02,\n",
       "         7.43008912e-01, -6.91449881e-01,  5.84811606e-02,\n",
       "         2.52798885e-01,  1.47403494e-01, -8.91297877e-01,\n",
       "        -2.38727227e-01,  1.03208303e+00],\n",
       "       [ 1.63591355e-01,  7.89371133e-02, -1.49006397e-01,\n",
       "        -8.70444030e-02, -1.69708937e-01,  1.23827882e-01,\n",
       "        -1.58898383e-01,  2.47269943e-01,  1.54437795e-02,\n",
       "        -1.72690541e-01, -1.01851240e-01,  2.86732092e-02,\n",
       "         1.77421957e-01, -2.52955228e-01,  8.08909237e-02,\n",
       "         1.07600026e-01,  2.32537873e-02, -1.82597816e-01,\n",
       "        -7.99062550e-02,  2.17940345e-01],\n",
       "       [ 6.71669766e-02,  3.01943682e-02, -1.80107504e-02,\n",
       "        -3.39609012e-03, -1.08993128e-02, -2.01771408e-03,\n",
       "        -1.15209371e-02,  8.70519131e-02, -7.49904662e-03,\n",
       "        -1.10957257e-01,  7.75396824e-04,  6.05532452e-02,\n",
       "        -3.40620279e-02, -3.72988880e-02, -3.41626145e-02,\n",
       "         5.05866855e-03, -1.02801071e-02, -1.96734667e-02,\n",
       "        -3.91250812e-02,  2.66797543e-02],\n",
       "       [ 7.78109357e-02,  2.62040496e-02, -1.57149956e-02,\n",
       "        -3.38792801e-04, -1.37797371e-02, -1.93005055e-03,\n",
       "        -4.09182161e-03,  9.34429318e-02, -5.56544214e-03,\n",
       "        -1.11174218e-01, -3.55168432e-03,  6.15820438e-02,\n",
       "        -3.77358086e-02, -3.56032327e-02, -3.73616777e-02,\n",
       "         8.20765272e-03, -1.42274331e-02, -2.09070221e-02,\n",
       "        -3.27019356e-02,  2.85850503e-02],\n",
       "       [ 4.86231595e-02,  1.75573491e-02, -1.91746429e-02,\n",
       "         5.33630699e-03, -1.94362551e-02,  2.17653066e-03,\n",
       "         2.83039361e-03,  9.54367667e-02,  4.32126969e-03,\n",
       "        -1.31563067e-01, -1.60361305e-02,  4.54040244e-02,\n",
       "        -3.62223238e-02, -2.91284174e-02, -3.28145437e-02,\n",
       "        -2.31694430e-04, -2.60172132e-03, -2.00040266e-02,\n",
       "        -3.68512981e-02,  3.77425551e-02],\n",
       "       [ 6.69529513e-02,  2.19349675e-02, -1.77708417e-02,\n",
       "        -4.03963588e-03, -1.29736662e-02, -3.73182073e-03,\n",
       "        -6.17609918e-03,  8.97123367e-02,  9.29467380e-04,\n",
       "        -1.06567748e-01,  1.49434805e-03,  4.61229533e-02,\n",
       "        -3.54155712e-02, -2.87294351e-02, -2.70338841e-02,\n",
       "         6.16608746e-03, -1.40456920e-02, -2.48138905e-02,\n",
       "        -3.84615473e-02,  3.39278206e-02],\n",
       "       [ 6.76610097e-02,  2.45466828e-02, -1.72799230e-02,\n",
       "        -2.23645009e-03, -9.58620757e-03, -4.35381383e-03,\n",
       "        -2.07408518e-03,  8.37084204e-02, -3.29118222e-03,\n",
       "        -1.13292925e-01,  4.33723629e-03,  5.22354022e-02,\n",
       "        -3.87122035e-02, -2.58660987e-02, -2.88922153e-02,\n",
       "         8.77802260e-03, -1.73863247e-02, -2.31334344e-02,\n",
       "        -3.63978930e-02,  2.70337500e-02],\n",
       "       [ 6.94792271e-01,  6.54575229e-01, -1.10102630e+00,\n",
       "        -3.57061982e-01, -3.81359011e-01,  7.52966940e-01,\n",
       "        -1.01561832e+00,  1.17242825e+00, -2.82334805e-01,\n",
       "        -6.06717229e-01, -1.53947115e-01,  2.61217803e-02,\n",
       "         7.49468982e-01, -6.89636111e-01,  5.47494330e-02,\n",
       "         2.55301118e-01,  1.47154436e-01, -9.05699432e-01,\n",
       "        -2.41218165e-01,  1.03976834e+00],\n",
       "       [ 6.91139340e-01,  6.51460886e-01, -1.08702016e+00,\n",
       "        -3.56837988e-01, -3.82125467e-01,  7.46075869e-01,\n",
       "        -1.00991189e+00,  1.16661060e+00, -2.82938242e-01,\n",
       "        -6.06018126e-01, -1.58031374e-01,  2.44047418e-02,\n",
       "         7.41211116e-01, -6.88691676e-01,  5.52069880e-02,\n",
       "         2.51115113e-01,  1.48358226e-01, -8.95115793e-01,\n",
       "        -2.39452988e-01,  1.03156948e+00],\n",
       "       [ 6.83383167e-01,  6.50066912e-01, -1.08111942e+00,\n",
       "        -3.58411819e-01, -3.72885674e-01,  7.46585369e-01,\n",
       "        -1.01051962e+00,  1.16723049e+00, -2.80260175e-01,\n",
       "        -5.99610686e-01, -1.54506356e-01,  2.83491910e-02,\n",
       "         7.44441330e-01, -6.93261504e-01,  5.05813546e-02,\n",
       "         2.47350365e-01,  1.52125522e-01, -8.87238145e-01,\n",
       "        -2.39224955e-01,  1.02942562e+00],\n",
       "       [ 6.90289915e-01,  6.50035620e-01, -1.09136462e+00,\n",
       "        -3.60105872e-01, -3.84432912e-01,  7.44739950e-01,\n",
       "        -1.01064563e+00,  1.16469395e+00, -2.83832967e-01,\n",
       "        -6.06341660e-01, -1.55345619e-01,  2.38256454e-02,\n",
       "         7.42624819e-01, -6.90347612e-01,  5.84488548e-02,\n",
       "         2.52239645e-01,  1.49663478e-01, -8.95013273e-01,\n",
       "        -2.37874284e-01,  1.03276622e+00],\n",
       "       [ 6.97425365e-01,  6.52805746e-01, -1.09751093e+00,\n",
       "        -3.59071374e-01, -3.83882433e-01,  7.52342224e-01,\n",
       "        -1.01483297e+00,  1.17162931e+00, -2.84116685e-01,\n",
       "        -6.08153105e-01, -1.55439973e-01,  2.44676396e-02,\n",
       "         7.49226749e-01, -6.90042615e-01,  5.34372069e-02,\n",
       "         2.57669419e-01,  1.46037877e-01, -9.04934943e-01,\n",
       "        -2.39663199e-01,  1.03698242e+00],\n",
       "       [ 6.84890091e-01,  6.50740623e-01, -1.09436321e+00,\n",
       "        -3.58382583e-01, -3.77949417e-01,  7.51442850e-01,\n",
       "        -1.01116991e+00,  1.16839981e+00, -2.77740508e-01,\n",
       "        -6.02024376e-01, -1.54861778e-01,  2.54413113e-02,\n",
       "         7.51196086e-01, -6.92286193e-01,  5.96867986e-02,\n",
       "         2.53775805e-01,  1.49417266e-01, -8.99117947e-01,\n",
       "        -2.41001189e-01,  1.04092681e+00],\n",
       "       [ 6.89410388e-01,  6.59547150e-01, -1.08669126e+00,\n",
       "        -3.60946178e-01, -3.71929228e-01,  7.55085886e-01,\n",
       "        -1.02212286e+00,  1.17698157e+00, -2.83709168e-01,\n",
       "        -6.04779005e-01, -1.51972085e-01,  2.82852575e-02,\n",
       "         7.51508117e-01, -6.92530394e-01,  4.12975587e-02,\n",
       "         2.42185295e-01,  1.48744896e-01, -8.91992509e-01,\n",
       "        -2.34998614e-01,  1.03216827e+00],\n",
       "       [ 6.91027462e-01,  6.62713051e-01, -1.09374475e+00,\n",
       "        -3.59214604e-01, -3.72592688e-01,  7.60218859e-01,\n",
       "        -1.02563965e+00,  1.17830598e+00, -2.85685629e-01,\n",
       "        -6.08008742e-01, -1.54376447e-01,  2.56079584e-02,\n",
       "         7.53432333e-01, -6.86792910e-01,  4.36443128e-02,\n",
       "         2.40182698e-01,  1.48857430e-01, -9.00307238e-01,\n",
       "        -2.37492725e-01,  1.03364372e+00],\n",
       "       [ 6.89172387e-01,  6.60120070e-01, -1.09544396e+00,\n",
       "        -3.58931005e-01, -3.73299986e-01,  7.61360586e-01,\n",
       "        -1.02396131e+00,  1.17840648e+00, -2.84364641e-01,\n",
       "        -6.10208690e-01, -1.57445133e-01,  2.44047716e-02,\n",
       "         7.53347337e-01, -6.86490417e-01,  4.89359684e-02,\n",
       "         2.41628885e-01,  1.49932623e-01, -9.01445448e-01,\n",
       "        -2.39642546e-01,  1.03656650e+00]], dtype=float32)"
      ]
     },
     "execution_count": 20,
     "metadata": {},
     "output_type": "execute_result"
    }
   ],
   "source": [
    "z_run = vrae.transform(test_dataset)\n",
    "z_run"
   ]
  },
  {
   "cell_type": "code",
   "execution_count": 21,
   "metadata": {},
   "outputs": [
    {
     "data": {
      "text/plain": [
       "(36, 20)"
      ]
     },
     "execution_count": 21,
     "metadata": {},
     "output_type": "execute_result"
    }
   ],
   "source": [
    "z_run.shape"
   ]
  },
  {
   "cell_type": "markdown",
   "metadata": {},
   "source": [
    "### Reconstruct"
   ]
  },
  {
   "cell_type": "code",
   "execution_count": 22,
   "metadata": {},
   "outputs": [
    {
     "data": {
      "text/plain": [
       "(22363, 92)"
      ]
     },
     "execution_count": 22,
     "metadata": {},
     "output_type": "execute_result"
    }
   ],
   "source": [
    "TRAIN_DF.shape"
   ]
  },
  {
   "cell_type": "code",
   "execution_count": 23,
   "metadata": {
    "scrolled": true
   },
   "outputs": [
    {
     "name": "stdout",
     "output_type": "stream",
     "text": [
      "(100, 223, 92)\n"
     ]
    },
    {
     "data": {
      "text/plain": [
       "array([[[-1.04409447e-02,  4.40706313e-03, -2.94012204e-03, ...,\n",
       "          5.97585082e-01,  6.82357371e-01,  2.60543883e-01],\n",
       "        [-1.03578847e-02,  4.36171703e-03, -3.04929912e-03, ...,\n",
       "          5.97973704e-01,  6.82868183e-01,  2.60592878e-01],\n",
       "        [-1.03606926e-02,  4.35672887e-03, -3.05896997e-03, ...,\n",
       "          5.98013520e-01,  6.82923675e-01,  2.60610014e-01],\n",
       "        ...,\n",
       "        [ 5.53201139e-02, -2.62989476e-03, -1.17704347e-02, ...,\n",
       "          8.50748897e-01,  9.55315471e-01,  3.19215149e-01],\n",
       "        [ 5.71447238e-02, -2.66385823e-03, -1.20210983e-02, ...,\n",
       "          8.56693864e-01,  9.61848021e-01,  3.20571721e-01],\n",
       "        [-5.26120327e-03,  4.55626100e-03, -3.25719640e-03, ...,\n",
       "          6.20221972e-01,  7.07035184e-01,  2.65761763e-01]],\n",
       "\n",
       "       [[ 6.27106428e-03,  3.21529433e-03, -3.65344435e-03, ...,\n",
       "          6.46744370e-01,  7.24317670e-01,  2.69422978e-01],\n",
       "        [ 6.30193017e-03,  3.17924097e-03, -3.68959829e-03, ...,\n",
       "          6.47042871e-01,  7.24772036e-01,  2.69473046e-01],\n",
       "        [ 6.29924238e-03,  3.17705423e-03, -3.68884951e-03, ...,\n",
       "          6.47075951e-01,  7.24819839e-01,  2.69481510e-01],\n",
       "        ...,\n",
       "        [ 5.60124144e-02,  8.09539109e-04,  4.95156273e-03, ...,\n",
       "          8.17448616e-01,  9.48422134e-01,  3.11425060e-01],\n",
       "        [ 5.75503781e-02,  8.70544463e-04,  5.17635047e-03, ...,\n",
       "          8.21260333e-01,  9.53365684e-01,  3.12345743e-01],\n",
       "        [ 9.68224369e-03,  3.10062245e-03, -3.20694596e-03, ...,\n",
       "          6.63956463e-01,  7.47106433e-01,  2.73540020e-01]],\n",
       "\n",
       "       [[ 1.46952905e-02,  3.11743096e-03, -1.72583386e-03, ...,\n",
       "          6.74670696e-01,  7.56766319e-01,  2.70781726e-01],\n",
       "        [ 1.46941934e-02,  3.10021080e-03, -1.73091143e-03, ...,\n",
       "          6.74862504e-01,  7.57084966e-01,  2.70810425e-01],\n",
       "        [ 1.46920979e-02,  3.09873000e-03, -1.72976032e-03, ...,\n",
       "          6.74879372e-01,  7.57109761e-01,  2.70810485e-01],\n",
       "        ...,\n",
       "        [ 3.39109749e-02,  2.36483477e-03, -2.93657184e-03, ...,\n",
       "          7.95286059e-01,  9.40090299e-01,  2.97513366e-01],\n",
       "        [ 3.45544815e-02,  2.39995308e-03, -2.99274176e-03, ...,\n",
       "          7.97925532e-01,  9.44127917e-01,  2.98079759e-01],\n",
       "        [ 1.59940496e-02,  3.14037129e-03, -1.81520358e-03, ...,\n",
       "          6.86748385e-01,  7.74678826e-01,  2.73336023e-01]],\n",
       "\n",
       "       ...,\n",
       "\n",
       "       [[ 1.69989970e-02,  7.73682445e-03, -2.71726400e-03, ...,\n",
       "          7.04945087e-01,  8.04608822e-01,  2.66746491e-01],\n",
       "        [ 1.69990007e-02,  7.73682445e-03, -2.71726400e-03, ...,\n",
       "          7.04945087e-01,  8.04608822e-01,  2.66746491e-01],\n",
       "        [ 1.69990044e-02,  7.73682445e-03, -2.71726400e-03, ...,\n",
       "          7.04945087e-01,  8.04608822e-01,  2.66746491e-01],\n",
       "        ...,\n",
       "        [ 1.69990044e-02,  7.73681886e-03, -2.71726027e-03, ...,\n",
       "          7.04945087e-01,  8.04608822e-01,  2.66746491e-01],\n",
       "        [ 1.69990007e-02,  7.73682445e-03, -2.71726400e-03, ...,\n",
       "          7.04945087e-01,  8.04608822e-01,  2.66746491e-01],\n",
       "        [ 1.69990044e-02,  7.73681886e-03, -2.71725655e-03, ...,\n",
       "          7.04945087e-01,  8.04608822e-01,  2.66746491e-01]],\n",
       "\n",
       "       [[ 1.69989970e-02,  7.73682445e-03, -2.71726400e-03, ...,\n",
       "          7.04945087e-01,  8.04608822e-01,  2.66746491e-01],\n",
       "        [ 1.69990007e-02,  7.73682445e-03, -2.71726400e-03, ...,\n",
       "          7.04945087e-01,  8.04608822e-01,  2.66746491e-01],\n",
       "        [ 1.69990044e-02,  7.73682445e-03, -2.71726400e-03, ...,\n",
       "          7.04945087e-01,  8.04608822e-01,  2.66746491e-01],\n",
       "        ...,\n",
       "        [ 1.69990044e-02,  7.73681886e-03, -2.71726027e-03, ...,\n",
       "          7.04945087e-01,  8.04608822e-01,  2.66746491e-01],\n",
       "        [ 1.69990007e-02,  7.73682445e-03, -2.71726400e-03, ...,\n",
       "          7.04945087e-01,  8.04608822e-01,  2.66746491e-01],\n",
       "        [ 1.69990044e-02,  7.73681886e-03, -2.71725655e-03, ...,\n",
       "          7.04945087e-01,  8.04608822e-01,  2.66746491e-01]],\n",
       "\n",
       "       [[ 1.69989970e-02,  7.73682445e-03, -2.71726400e-03, ...,\n",
       "          7.04945087e-01,  8.04608822e-01,  2.66746491e-01],\n",
       "        [ 1.69990007e-02,  7.73682445e-03, -2.71726400e-03, ...,\n",
       "          7.04945087e-01,  8.04608822e-01,  2.66746491e-01],\n",
       "        [ 1.69990044e-02,  7.73682445e-03, -2.71726400e-03, ...,\n",
       "          7.04945087e-01,  8.04608822e-01,  2.66746491e-01],\n",
       "        ...,\n",
       "        [ 1.69990044e-02,  7.73682073e-03, -2.71726027e-03, ...,\n",
       "          7.04945087e-01,  8.04608822e-01,  2.66746491e-01],\n",
       "        [ 1.69990007e-02,  7.73682445e-03, -2.71726400e-03, ...,\n",
       "          7.04945087e-01,  8.04608822e-01,  2.66746491e-01],\n",
       "        [ 1.69990044e-02,  7.73681886e-03, -2.71725655e-03, ...,\n",
       "          7.04945087e-01,  8.04608822e-01,  2.66746491e-01]]],\n",
       "      dtype=float32)"
      ]
     },
     "execution_count": 23,
     "metadata": {},
     "output_type": "execute_result"
    }
   ],
   "source": [
    "# train reconstruct\n",
    "train_reconstruction = vrae.reconstruct(train_dataset)\n",
    "print(train_reconstruction.shape)\n",
    "train_reconstruction"
   ]
  },
  {
   "cell_type": "code",
   "execution_count": 24,
   "metadata": {},
   "outputs": [
    {
     "data": {
      "text/plain": [
       "(3627, 92)"
      ]
     },
     "execution_count": 24,
     "metadata": {},
     "output_type": "execute_result"
    }
   ],
   "source": [
    "TEST_DF.shape"
   ]
  },
  {
   "cell_type": "code",
   "execution_count": 25,
   "metadata": {
    "scrolled": true
   },
   "outputs": [
    {
     "name": "stdout",
     "output_type": "stream",
     "text": [
      "(100, 36, 92)\n"
     ]
    },
    {
     "data": {
      "text/plain": [
       "array([[[ 0.0504517 , -0.00146345, -0.00972446, ...,  0.83463794,\n",
       "          0.935307  ,  0.31601697],\n",
       "        [ 0.05045105, -0.00144963, -0.00968015, ...,  0.83450603,\n",
       "          0.93516016,  0.31597477],\n",
       "        [ 0.05070828, -0.00152161, -0.00974181, ...,  0.83551186,\n",
       "          0.9362943 ,  0.3161918 ],\n",
       "        ...,\n",
       "        [ 0.05194508, -0.00153281, -0.01006465, ...,  0.83950996,\n",
       "          0.9406751 ,  0.31713304],\n",
       "        [ 0.05227333, -0.00166186, -0.0102048 , ...,  0.84056497,\n",
       "          0.9420481 ,  0.31730893],\n",
       "        [ 0.05233347, -0.00173804, -0.0102682 , ...,  0.8408532 ,\n",
       "          0.94242716,  0.3173618 ]],\n",
       "\n",
       "       [[ 0.05224435,  0.00097335,  0.00460547, ...,  0.8081162 ,\n",
       "          0.93519455,  0.30926707],\n",
       "        [ 0.05223872,  0.00097319,  0.00460013, ...,  0.80802697,\n",
       "          0.935107  ,  0.30923772],\n",
       "        [ 0.05243772,  0.00095632,  0.00463166, ...,  0.808685  ,\n",
       "          0.9359569 ,  0.30938393],\n",
       "        ...,\n",
       "        [ 0.05348985,  0.00104677,  0.00479847, ...,  0.8110931 ,\n",
       "          0.9390569 ,  0.31008995],\n",
       "        [ 0.05371412,  0.00101237,  0.00481382, ...,  0.81171215,\n",
       "          0.93996066,  0.31020433],\n",
       "        [ 0.05374814,  0.00098542,  0.00481153, ...,  0.81182945,\n",
       "          0.94015706,  0.3102265 ]],\n",
       "\n",
       "       [[ 0.03246114,  0.0024477 , -0.00263075, ...,  0.7885976 ,\n",
       "          0.92910385,  0.2959716 ],\n",
       "        [ 0.03245607,  0.00244548, -0.00263623, ...,  0.78853595,\n",
       "          0.9290438 ,  0.29595336],\n",
       "        [ 0.03253864,  0.00243873, -0.00263557, ...,  0.7889755 ,\n",
       "          0.9296912 ,  0.2960378 ],\n",
       "        ...,\n",
       "        [ 0.03297056,  0.00248968, -0.00270172, ...,  0.7907841 ,\n",
       "          0.93249476,  0.29654622],\n",
       "        [ 0.03305599,  0.002473  , -0.00271663, ...,  0.7912127 ,\n",
       "          0.933202  ,  0.2966279 ],\n",
       "        [ 0.03306465,  0.00245969, -0.00272479, ...,  0.79130036,\n",
       "          0.93337214,  0.2966502 ]],\n",
       "\n",
       "       ...,\n",
       "\n",
       "       [[ 0.016999  ,  0.00773682, -0.00271726, ...,  0.7049451 ,\n",
       "          0.8046088 ,  0.2667465 ],\n",
       "        [ 0.016999  ,  0.00773682, -0.00271726, ...,  0.7049451 ,\n",
       "          0.8046088 ,  0.2667465 ],\n",
       "        [ 0.016999  ,  0.00773682, -0.00271726, ...,  0.7049451 ,\n",
       "          0.8046088 ,  0.2667465 ],\n",
       "        ...,\n",
       "        [ 0.016999  ,  0.00773682, -0.00271726, ...,  0.7049451 ,\n",
       "          0.8046088 ,  0.2667465 ],\n",
       "        [ 0.016999  ,  0.00773682, -0.00271726, ...,  0.7049451 ,\n",
       "          0.8046088 ,  0.2667465 ],\n",
       "        [ 0.016999  ,  0.00773682, -0.00271726, ...,  0.7049451 ,\n",
       "          0.8046088 ,  0.2667465 ]],\n",
       "\n",
       "       [[ 0.016999  ,  0.00773682, -0.00271726, ...,  0.7049451 ,\n",
       "          0.8046088 ,  0.2667465 ],\n",
       "        [ 0.016999  ,  0.00773682, -0.00271726, ...,  0.7049451 ,\n",
       "          0.8046088 ,  0.2667465 ],\n",
       "        [ 0.016999  ,  0.00773682, -0.00271726, ...,  0.7049451 ,\n",
       "          0.8046088 ,  0.2667465 ],\n",
       "        ...,\n",
       "        [ 0.016999  ,  0.00773682, -0.00271727, ...,  0.7049451 ,\n",
       "          0.8046088 ,  0.2667465 ],\n",
       "        [ 0.016999  ,  0.00773682, -0.00271726, ...,  0.7049451 ,\n",
       "          0.8046088 ,  0.2667465 ],\n",
       "        [ 0.016999  ,  0.00773682, -0.00271726, ...,  0.7049451 ,\n",
       "          0.8046088 ,  0.2667465 ]],\n",
       "\n",
       "       [[ 0.016999  ,  0.00773682, -0.00271726, ...,  0.7049451 ,\n",
       "          0.8046088 ,  0.2667465 ],\n",
       "        [ 0.016999  ,  0.00773682, -0.00271726, ...,  0.7049451 ,\n",
       "          0.8046088 ,  0.2667465 ],\n",
       "        [ 0.016999  ,  0.00773682, -0.00271726, ...,  0.7049451 ,\n",
       "          0.8046088 ,  0.2667465 ],\n",
       "        ...,\n",
       "        [ 0.016999  ,  0.00773682, -0.00271727, ...,  0.7049451 ,\n",
       "          0.8046088 ,  0.2667465 ],\n",
       "        [ 0.016999  ,  0.00773682, -0.00271726, ...,  0.7049451 ,\n",
       "          0.8046088 ,  0.2667465 ],\n",
       "        [ 0.016999  ,  0.00773682, -0.00271726, ...,  0.7049451 ,\n",
       "          0.8046088 ,  0.2667465 ]]], dtype=float32)"
      ]
     },
     "execution_count": 25,
     "metadata": {},
     "output_type": "execute_result"
    }
   ],
   "source": [
    "# test reconstruct\n",
    "test_reconstruction = vrae.reconstruct(test_dataset)\n",
    "print(test_reconstruction.shape)\n",
    "test_reconstruction"
   ]
  },
  {
   "cell_type": "code",
   "execution_count": null,
   "metadata": {},
   "outputs": [],
   "source": []
  }
 ],
 "metadata": {
  "kernelspec": {
   "display_name": "Python 3",
   "language": "python",
   "name": "python3"
  },
  "language_info": {
   "codemirror_mode": {
    "name": "ipython",
    "version": 3
   },
   "file_extension": ".py",
   "mimetype": "text/x-python",
   "name": "python",
   "nbconvert_exporter": "python",
   "pygments_lexer": "ipython3",
   "version": "3.6.9"
  }
 },
 "nbformat": 4,
 "nbformat_minor": 4
}

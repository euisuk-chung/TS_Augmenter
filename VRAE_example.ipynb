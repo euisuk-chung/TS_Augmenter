{
 "cells": [
  {
   "cell_type": "markdown",
   "metadata": {},
   "source": [
    "#### Contents\n",
    "\n",
    "0. [Load data and preprocess](#Load-data-and-preprocess)\n",
    "1. [Initialize VRAE object](#Initialize-VRAE-object)\n",
    "2. [Fit the model onto dataset](#Fit-the-model-onto-dataset)\n",
    "3. [Transform the input timeseries to encoded latent vectors](#Transform-the-input-timeseries-to-encoded-latent-vectors)\n",
    "4. [Save the model to be fetched later](#Save-the-model-to-be-fetched-later)"
   ]
  },
  {
   "cell_type": "code",
   "execution_count": 1,
   "metadata": {},
   "outputs": [],
   "source": [
    "import random\n",
    "import torch\n",
    "import numpy as np\n",
    "\n",
    "def fix_seed(seed: int) -> None:\n",
    "    torch.manual_seed(seed)\n",
    "    torch.cuda.manual_seed(seed)\n",
    "    torch.cuda.manual_seed_all(seed)\n",
    "    np.random.seed(seed)\n",
    "    random.seed(seed)"
   ]
  },
  {
   "cell_type": "code",
   "execution_count": 2,
   "metadata": {},
   "outputs": [],
   "source": [
    "fix_seed(555)"
   ]
  },
  {
   "cell_type": "markdown",
   "metadata": {},
   "source": [
    "### Import required modules"
   ]
  },
  {
   "cell_type": "code",
   "execution_count": 3,
   "metadata": {},
   "outputs": [],
   "source": [
    "from model.vrae import VRAE\n",
    "\n",
    "from model.utils import *\n",
    "import numpy as np\n",
    "import torch\n",
    "from torch.utils.data import DataLoader, Dataset\n",
    "from tqdm.notebook import trange\n",
    "import tqdm\n",
    "\n",
    "import pickle\n",
    "\n",
    "from sklearn.preprocessing import MinMaxScaler, StandardScaler\n"
   ]
  },
  {
   "cell_type": "markdown",
   "metadata": {},
   "source": [
    "### Input parameters"
   ]
  },
  {
   "cell_type": "code",
   "execution_count": 4,
   "metadata": {},
   "outputs": [],
   "source": [
    "dload = './save_model' #download directory"
   ]
  },
  {
   "cell_type": "markdown",
   "metadata": {},
   "source": [
    "### utils.load_data"
   ]
  },
  {
   "cell_type": "code",
   "execution_count": 5,
   "metadata": {},
   "outputs": [],
   "source": [
    "def load_gen_data(file_name, scale_type = 'Standard', cols_to_remove = None):\n",
    "    \"\"\"\n",
    "    folder: folder where data is located\n",
    "    \"\"\"\n",
    "    \n",
    "    # define path(must be in pkl file)\n",
    "    data_loc = f'./data/netis/{file_name}.pkl'    \n",
    "    \n",
    "    # get data\n",
    "    with open(data_loc, 'rb') as f:\n",
    "        df = pickle.load(f)\n",
    "    \n",
    "    # if needed remove columns that is not necessary\n",
    "    if cols_to_remove != None:\n",
    "        df = df_total.drop(cols_to_remove, axis=1)\n",
    "    \n",
    "    df = df.dropna()\n",
    "    \n",
    "    # TRAIN TEST SPLIT\n",
    "    # TRAIN\n",
    "    TRAIN_DF = df.query('Time < 20211103184400 or Time > 20211106084400 and label==0')\n",
    "    \n",
    "    # TEST(GET ONLY 정상)\n",
    "    TEST_DF = df.query('Time >= 20211103184400 and Time <= 20211106084400 and label==0')\n",
    "\n",
    "    TOTAL_DF = df.to_numpy()\n",
    "    \n",
    "    # REMOVE TIME & LABEL\n",
    "    TRAIN_DF = TRAIN_DF.iloc[:,1:-1]\n",
    "    cols = TRAIN_DF.columns\n",
    "    TRAIN_DF = TRAIN_DF.to_numpy()\n",
    "    TEST_DF = TEST_DF.iloc[:,1:-1].to_numpy()\n",
    "    \n",
    "    if scale_type == 'MinMax':\n",
    "        scaler = MinMaxScaler()\n",
    "    elif scale_type == 'Standard':\n",
    "        scaler = StandardScaler()\n",
    "    else:\n",
    "        pass\n",
    "    \n",
    "    TRAIN_SCALED = scaler.fit(TRAIN_DF).transform(TRAIN_DF)\n",
    "    TEST_SCALED = scaler.transform(TEST_DF)\n",
    "    \n",
    "    return TOTAL_DF, TRAIN_DF, TEST_DF, TRAIN_SCALED, TEST_SCALED, cols, scaler"
   ]
  },
  {
   "cell_type": "markdown",
   "metadata": {},
   "source": [
    "### Hyper parameters"
   ]
  },
  {
   "cell_type": "markdown",
   "metadata": {},
   "source": [
    "### Load data and preprocess\n",
    "- `file_name` : pkl file_name\n",
    "- `cols_to_remove` : generation 수행하지 않을 column 제거"
   ]
  },
  {
   "cell_type": "code",
   "execution_count": 6,
   "metadata": {},
   "outputs": [
    {
     "name": "stdout",
     "output_type": "stream",
     "text": [
      "(26002, 94)\n",
      "(22363, 92)\n",
      "(3627, 92)\n"
     ]
    }
   ],
   "source": [
    "# params\n",
    "file_name = 'netis'\n",
    "\n",
    "# load data\n",
    "TOTAL_DF, TRAIN_DF, TEST_DF, TRAIN_SCALED, TEST_SCALED, cols, scaler = load_gen_data(file_name)\n",
    "\n",
    "# shape\n",
    "print(TOTAL_DF.shape)\n",
    "print(TRAIN_SCALED.shape)\n",
    "print(TEST_SCALED.shape)"
   ]
  },
  {
   "cell_type": "code",
   "execution_count": 7,
   "metadata": {},
   "outputs": [],
   "source": [
    "class GenerationDataset(Dataset):\n",
    "    def __init__(self, data, window):\n",
    "        self.data = torch.Tensor(data)\n",
    "        self.window = window\n",
    " \n",
    "    def __len__(self):\n",
    "        return len(self.data) // self.window # -1\n",
    "    \n",
    "    def __getitem__(self, index):\n",
    "#         x = self.data[index*self.window:index*(self.window+1)]\n",
    "        x = self.data[index*self.window:(index+1)*(self.window)]\n",
    "        return x"
   ]
  },
  {
   "cell_type": "code",
   "execution_count": 8,
   "metadata": {},
   "outputs": [],
   "source": [
    "window = 30"
   ]
  },
  {
   "cell_type": "code",
   "execution_count": 9,
   "metadata": {},
   "outputs": [
    {
     "data": {
      "text/plain": [
       "<__main__.GenerationDataset at 0x7faaf47789e8>"
      ]
     },
     "execution_count": 9,
     "metadata": {},
     "output_type": "execute_result"
    }
   ],
   "source": [
    "train_dataset = GenerationDataset(TRAIN_SCALED, window)\n",
    "train_dataset"
   ]
  },
  {
   "cell_type": "code",
   "execution_count": 10,
   "metadata": {},
   "outputs": [
    {
     "data": {
      "text/plain": [
       "<__main__.GenerationDataset at 0x7faa14b9fa90>"
      ]
     },
     "execution_count": 10,
     "metadata": {},
     "output_type": "execute_result"
    }
   ],
   "source": [
    "test_dataset = GenerationDataset(TEST_SCALED, window)\n",
    "test_dataset"
   ]
  },
  {
   "cell_type": "code",
   "execution_count": 11,
   "metadata": {},
   "outputs": [
    {
     "data": {
      "text/plain": [
       "torch.Size([30, 92])"
      ]
     },
     "execution_count": 11,
     "metadata": {},
     "output_type": "execute_result"
    }
   ],
   "source": [
    "train_dataset[0].shape"
   ]
  },
  {
   "cell_type": "markdown",
   "metadata": {},
   "source": [
    "**Fetch `sequence_length` from dataset**"
   ]
  },
  {
   "cell_type": "code",
   "execution_count": 12,
   "metadata": {},
   "outputs": [
    {
     "data": {
      "text/plain": [
       "30"
      ]
     },
     "execution_count": 12,
     "metadata": {},
     "output_type": "execute_result"
    }
   ],
   "source": [
    "sequence_length = train_dataset[0].shape[0]\n",
    "sequence_length"
   ]
  },
  {
   "cell_type": "markdown",
   "metadata": {},
   "source": [
    "**Fetch `number_of_features` from dataset**\n",
    "\n",
    "This config corresponds to number of input features"
   ]
  },
  {
   "cell_type": "code",
   "execution_count": 13,
   "metadata": {},
   "outputs": [
    {
     "data": {
      "text/plain": [
       "92"
      ]
     },
     "execution_count": 13,
     "metadata": {},
     "output_type": "execute_result"
    }
   ],
   "source": [
    "number_of_features = train_dataset[0].shape[1]\n",
    "number_of_features"
   ]
  },
  {
   "cell_type": "markdown",
   "metadata": {},
   "source": [
    "### Parameters"
   ]
  },
  {
   "cell_type": "code",
   "execution_count": 14,
   "metadata": {},
   "outputs": [],
   "source": [
    "n_epochs = 5\n",
    "hidden_size = 90\n",
    "# hidden_layer_depth = 2\n",
    "hidden_layer_depth = 1\n",
    "latent_length = 30\n",
    "batch_size = 64\n",
    "learning_rate = 0.0002\n",
    "dropout_rate = 0.2\n",
    "optimizer = 'Adam' # options: ADAM, SGD\n",
    "cuda = True # options: True, False\n",
    "print_every=50\n",
    "clip = True # options: True, False\n",
    "max_grad_norm=5\n",
    "loss = 'MSELoss' # options: SmoothL1Loss, MSELoss\n",
    "block = 'LSTM' # options: LSTM, GRU"
   ]
  },
  {
   "cell_type": "markdown",
   "metadata": {},
   "source": [
    "### Initialize VRAE object\n",
    "\n",
    "VRAE inherits from `sklearn.base.BaseEstimator` and overrides `fit`, `transform` and `fit_transform` functions, similar to sklearn modules"
   ]
  },
  {
   "cell_type": "code",
   "execution_count": 15,
   "metadata": {},
   "outputs": [
    {
     "name": "stderr",
     "output_type": "stream",
     "text": [
      "/usr/local/lib/python3.6/dist-packages/torch/nn/modules/rnn.py:65: UserWarning: dropout option adds dropout after all but last recurrent layer, so non-zero dropout expects num_layers greater than 1, but got dropout=0.2 and num_layers=1\n",
      "  \"num_layers={}\".format(dropout, num_layers))\n",
      "/usr/local/lib/python3.6/dist-packages/torch/nn/_reduction.py:42: UserWarning: size_average and reduce args will be deprecated, please use reduction='sum' instead.\n",
      "  warnings.warn(warning.format(ret))\n"
     ]
    }
   ],
   "source": [
    "vrae = VRAE(sequence_length=sequence_length,\n",
    "            number_of_features = number_of_features,\n",
    "            hidden_size = hidden_size, \n",
    "            hidden_layer_depth = hidden_layer_depth,\n",
    "            latent_length = latent_length,\n",
    "            batch_size = batch_size,\n",
    "            learning_rate = learning_rate,\n",
    "            n_epochs = n_epochs,\n",
    "            dropout_rate = dropout_rate,\n",
    "            optimizer = optimizer, \n",
    "            cuda = cuda,\n",
    "            print_every=print_every, \n",
    "            clip=clip, \n",
    "            max_grad_norm=max_grad_norm,\n",
    "            loss = loss,\n",
    "            block = block,\n",
    "            dload = dload)"
   ]
  },
  {
   "cell_type": "markdown",
   "metadata": {},
   "source": [
    "### Fit the model onto dataset"
   ]
  },
  {
   "cell_type": "code",
   "execution_count": 16,
   "metadata": {
    "scrolled": true
   },
   "outputs": [
    {
     "data": {
      "application/vnd.jupyter.widget-view+json": {
       "model_id": "9cd0fc578f62444190236fd7ab7cf0a9",
       "version_major": 2,
       "version_minor": 0
      },
      "text/plain": [
       "HBox(children=(FloatProgress(value=0.0, max=5.0), HTML(value='')))"
      ]
     },
     "metadata": {},
     "output_type": "display_data"
    },
    {
     "name": "stdout",
     "output_type": "stream",
     "text": [
      "Epoch: 0\n",
      "Average loss: 120207.4260\n",
      "Epoch: 1\n",
      "Average loss: 119823.7354\n",
      "Epoch: 2\n",
      "Average loss: 119614.9631\n",
      "Epoch: 3\n",
      "Average loss: 119419.6828\n",
      "Epoch: 4\n",
      "Average loss: 119217.4336\n",
      "\n"
     ]
    }
   ],
   "source": [
    "loss_arr = vrae.fit(train_dataset)\n",
    "\n",
    "#If the model has to be saved, with the learnt parameters use:\n",
    "# vrae.fit(dataset, save = True)"
   ]
  },
  {
   "cell_type": "code",
   "execution_count": 17,
   "metadata": {},
   "outputs": [
    {
     "data": {
      "text/plain": [
       "[<matplotlib.lines.Line2D at 0x7fa9cf0dfe80>]"
      ]
     },
     "execution_count": 17,
     "metadata": {},
     "output_type": "execute_result"
    },
    {
     "data": {
      "image/png": "[encoded data removed]",
      "text/plain": [
       "<Figure size 432x288 with 1 Axes>"
      ]
     },
     "metadata": {
      "needs_background": "light"
     },
     "output_type": "display_data"
    }
   ],
   "source": [
    "import matplotlib.pyplot as plt\n",
    "\n",
    "plt.plot(loss_arr)"
   ]
  },
  {
   "cell_type": "markdown",
   "metadata": {},
   "source": [
    "### Save the model to be fetched later"
   ]
  },
  {
   "cell_type": "code",
   "execution_count": 18,
   "metadata": {},
   "outputs": [],
   "source": [
    "# vrae.save('vrae_layer1_epoch1000.pth')\n",
    "vrae.save('vrae_layer2_epoch1000.pth')\n",
    "\n",
    "# To load a presaved model, execute:\n",
    "# vrae.load('vrae_layer1_epoch1000.pth')\n",
    "# vrae.load('vrae_layer2_epoch1000.pth')"
   ]
  },
  {
   "cell_type": "code",
   "execution_count": 19,
   "metadata": {},
   "outputs": [
    {
     "data": {
      "text/plain": [
       "True"
      ]
     },
     "execution_count": 19,
     "metadata": {},
     "output_type": "execute_result"
    }
   ],
   "source": [
    "vrae.is_fitted"
   ]
  },
  {
   "cell_type": "markdown",
   "metadata": {},
   "source": [
    "### Transform the input timeseries to encoded latent vectors"
   ]
  },
  {
   "cell_type": "code",
   "execution_count": 20,
   "metadata": {
    "scrolled": true
   },
   "outputs": [
    {
     "data": {
      "text/plain": [
       "array([[ 0.37149006,  0.19548929, -0.4733491 , ..., -0.8907772 ,\n",
       "         0.32326856, -0.55709785],\n",
       "       [ 0.3595212 ,  0.25622487, -0.58140874, ..., -0.7897379 ,\n",
       "         0.37766486, -0.5722628 ],\n",
       "       [ 0.41739964,  0.19003512, -0.5061105 , ..., -0.86193854,\n",
       "         0.35663676, -0.55590016],\n",
       "       ...,\n",
       "       [ 0.26835892,  0.2436367 , -0.39543933, ..., -0.9192079 ,\n",
       "         0.34381288, -0.5295244 ],\n",
       "       [ 0.27450037,  0.2393853 , -0.37724158, ..., -0.93880385,\n",
       "         0.3433256 , -0.547297  ],\n",
       "       [ 0.24829076,  0.2739212 , -0.4094233 , ..., -0.877944  ,\n",
       "         0.34034395, -0.5496271 ]], dtype=float32)"
      ]
     },
     "execution_count": 20,
     "metadata": {},
     "output_type": "execute_result"
    }
   ],
   "source": [
    "z_run = vrae.transform(test_dataset)\n",
    "z_run"
   ]
  },
  {
   "cell_type": "code",
   "execution_count": 21,
   "metadata": {},
   "outputs": [
    {
     "data": {
      "text/plain": [
       "(64, 30)"
      ]
     },
     "execution_count": 21,
     "metadata": {},
     "output_type": "execute_result"
    }
   ],
   "source": [
    "z_run.shape"
   ]
  },
  {
   "cell_type": "code",
   "execution_count": 22,
   "metadata": {},
   "outputs": [],
   "source": [
    "from einops import rearrange\n",
    "import torch.nn as nn"
   ]
  },
  {
   "cell_type": "code",
   "execution_count": 23,
   "metadata": {},
   "outputs": [],
   "source": [
    "def concat_recon(recon_output):\n",
    "    \n",
    "    w,b,f = recon_output.shape\n",
    "    tmp = rearrange(recon_output, 'w b f -> b w f')\n",
    "    output = tmp.reshape(w*b,f)\n",
    "\n",
    "    return output\n",
    "\n",
    "def eval_recon(recon, real, scaler = None, undo = True):\n",
    "    criterion = nn.MSELoss()\n",
    "    \n",
    "    if undo == True:\n",
    "        assert scaler != None, 'Scaler should be defined!!'\n",
    "        \n",
    "        # reverse scaling\n",
    "        recon = scaler.inverse_transform(recon)\n",
    "    \n",
    "    r = recon.shape[0]\n",
    "    real = real[:r,:]\n",
    "\n",
    "    # compute loss\n",
    "    eval_loss = criterion(torch.tensor(recon), torch.tensor(real))\n",
    "    \n",
    "    return eval_loss\n",
    "\n",
    "def get_diff(recon, real, undo = True):\n",
    "    if undo == True:\n",
    "        # undo minmax scaling\n",
    "        recon = inverse_minmax(recon)\n",
    "    \n",
    "    r = recon.shape[0]\n",
    "    real = real[:r,:]\n",
    "    \n",
    "    return recon, real, np.abs(recon-real)"
   ]
  },
  {
   "cell_type": "markdown",
   "metadata": {},
   "source": [
    "## Reconstruct"
   ]
  },
  {
   "cell_type": "markdown",
   "metadata": {},
   "source": [
    "### Train"
   ]
  },
  {
   "cell_type": "code",
   "execution_count": 24,
   "metadata": {
    "scrolled": true
   },
   "outputs": [
    {
     "name": "stdout",
     "output_type": "stream",
     "text": [
      "(30, 704, 92)\n"
     ]
    }
   ],
   "source": [
    "# train reconstruct\n",
    "train_recon = vrae.reconstruct(train_dataset)\n",
    "print(train_recon.shape)"
   ]
  },
  {
   "cell_type": "code",
   "execution_count": 25,
   "metadata": {},
   "outputs": [
    {
     "data": {
      "text/plain": [
       "(21120, 92)"
      ]
     },
     "execution_count": 25,
     "metadata": {},
     "output_type": "execute_result"
    }
   ],
   "source": [
    "train_recon = concat_recon(train_recon)\n",
    "train_recon.shape"
   ]
  },
  {
   "cell_type": "code",
   "execution_count": 27,
   "metadata": {},
   "outputs": [
    {
     "data": {
      "text/plain": [
       "tensor(2.2022e+13, dtype=torch.float64)"
      ]
     },
     "execution_count": 27,
     "metadata": {},
     "output_type": "execute_result"
    }
   ],
   "source": [
    "eval_recon(recon = train_recon, real = TRAIN_DF, scaler = scaler)"
   ]
  },
  {
   "cell_type": "code",
   "execution_count": null,
   "metadata": {},
   "outputs": [],
   "source": [
    "# eval_recon(train_recon, TRAIN_SCALED, False)"
   ]
  },
  {
   "cell_type": "markdown",
   "metadata": {},
   "source": [
    "### Test"
   ]
  },
  {
   "cell_type": "code",
   "execution_count": 28,
   "metadata": {
    "scrolled": true
   },
   "outputs": [
    {
     "name": "stdout",
     "output_type": "stream",
     "text": [
      "(30, 64, 92)\n"
     ]
    }
   ],
   "source": [
    "# test reconstruct\n",
    "test_recon = vrae.reconstruct(test_dataset)\n",
    "print(test_recon.shape)"
   ]
  },
  {
   "cell_type": "code",
   "execution_count": 29,
   "metadata": {},
   "outputs": [
    {
     "data": {
      "text/plain": [
       "(1920, 92)"
      ]
     },
     "execution_count": 29,
     "metadata": {},
     "output_type": "execute_result"
    }
   ],
   "source": [
    "test_recon = concat_recon(test_recon)\n",
    "test_recon.shape"
   ]
  },
  {
   "cell_type": "code",
   "execution_count": 30,
   "metadata": {},
   "outputs": [
    {
     "data": {
      "text/plain": [
       "tensor(2.4607e+12, dtype=torch.float64)"
      ]
     },
     "execution_count": 30,
     "metadata": {},
     "output_type": "execute_result"
    }
   ],
   "source": [
    "eval_recon(recon = test_recon, real = TEST_DF, scaler = scaler)"
   ]
  },
  {
   "cell_type": "code",
   "execution_count": null,
   "metadata": {},
   "outputs": [],
   "source": [
    "# eval_recon(test_recon, TEST_SCALED, False)"
   ]
  },
  {
   "cell_type": "markdown",
   "metadata": {},
   "source": [
    "## Visualize"
   ]
  },
  {
   "cell_type": "markdown",
   "metadata": {},
   "source": [
    "### Visualize Train Difference"
   ]
  },
  {
   "cell_type": "code",
   "execution_count": 31,
   "metadata": {},
   "outputs": [
    {
     "data": {
      "text/plain": [
       "(21120, 92)"
      ]
     },
     "execution_count": 31,
     "metadata": {},
     "output_type": "execute_result"
    }
   ],
   "source": [
    "train_recon, train_real, train_diff  = get_diff(train_recon, TRAIN_SCALED, False)\n",
    "train_diff.shape"
   ]
  },
  {
   "cell_type": "code",
   "execution_count": null,
   "metadata": {},
   "outputs": [],
   "source": [
    "train_recon = pd.DataFrame(train_recon, columns= cols)\n",
    "train_real = pd.DataFrame(train_real, columns= cols)\n",
    "train_diff = pd.DataFrame(train_diff, columns= cols)"
   ]
  },
  {
   "cell_type": "code",
   "execution_count": null,
   "metadata": {
    "scrolled": true
   },
   "outputs": [],
   "source": [
    "import numpy as np\n",
    "import matplotlib.pyplot as plt\n",
    "import pandas as pd\n",
    "import random\n",
    "\n",
    "plt.rcParams[\"figure.figsize\"] = (20,5)\n",
    "\n",
    "for i in cols:\n",
    "    print(f'Saving plot {i}')\n",
    "    plt.plot(train_diff[i])\n",
    "    plt.title(f'{i}')\n",
    "    plt.savefig(f'./plots/train/layer2/{i}.png')\n",
    "    plt.clf() # Clear the current figure\n",
    "\n",
    "# plt.plot(train_diff[cols[random.randrange(92)]])\n",
    "# plt.title(f'{cols[random.randrange(92)]}')"
   ]
  },
  {
   "cell_type": "markdown",
   "metadata": {},
   "source": [
    "### Visualize Test Difference"
   ]
  },
  {
   "cell_type": "code",
   "execution_count": null,
   "metadata": {},
   "outputs": [],
   "source": [
    "test_recon, test_real, test_diff  = get_diff(test_recon, TEST_SCALED, False)\n",
    "test_diff.shape"
   ]
  },
  {
   "cell_type": "code",
   "execution_count": null,
   "metadata": {},
   "outputs": [],
   "source": [
    "test_recon = pd.DataFrame(test_recon, columns= cols)\n",
    "test_real = pd.DataFrame(test_real, columns= cols)\n",
    "test_diff = pd.DataFrame(test_diff, columns= cols)"
   ]
  },
  {
   "cell_type": "code",
   "execution_count": null,
   "metadata": {
    "scrolled": true
   },
   "outputs": [],
   "source": [
    "import numpy as np\n",
    "import matplotlib.pyplot as plt\n",
    "import pandas as pd\n",
    "import random\n",
    "\n",
    "plt.rcParams[\"figure.figsize\"] = (20,5)\n",
    "\n",
    "for i in cols:\n",
    "    print(f'Saving plot {i}')\n",
    "    plt.plot(test_diff[i])\n",
    "    plt.title(f'{i}')\n",
    "    plt.savefig(f'./plots/test/layer2/{i}.png')\n",
    "    plt.clf() # Clear the current figure\n",
    "\n",
    "\n",
    "# plt.plot(train_diff[cols[random.randrange(92)]])\n",
    "# plt.title(f'{cols[random.randrange(92)]}')"
   ]
  },
  {
   "cell_type": "code",
   "execution_count": null,
   "metadata": {},
   "outputs": [],
   "source": []
  }
 ],
 "metadata": {
  "kernelspec": {
   "display_name": "Python 3",
   "language": "python",
   "name": "python3"
  },
  "language_info": {
   "codemirror_mode": {
    "name": "ipython",
    "version": 3
   },
   "file_extension": ".py",
   "mimetype": "text/x-python",
   "name": "python",
   "nbconvert_exporter": "python",
   "pygments_lexer": "ipython3",
   "version": "3.6.9"
  }
 },
 "nbformat": 4,
 "nbformat_minor": 4
}
